{
  "cells": [
    {
      "cell_type": "markdown",
      "metadata": {
        "colab_type": "text",
        "id": "view-in-github"
      },
      "source": [
        "<a href=\"https://colab.research.google.com/github/wanghongree/temp_drafts/blob/main/calibrate_CIFAR10_pre_check_copy.ipynb\" target=\"_parent\"><img src=\"https://colab.research.google.com/assets/colab-badge.svg\" alt=\"Open In Colab\"/></a>"
      ]
    },
    {
      "cell_type": "code",
      "execution_count": 1,
      "id": "81deb5fd",
      "metadata": {},
      "outputs": [],
      "source": [
        "%matplotlib inline"
      ]
    },
    {
      "cell_type": "code",
      "execution_count": 2,
      "id": "6e1e7956",
      "metadata": {
        "id": "6e1e7956",
        "scrolled": true
      },
      "outputs": [
        {
          "name": "stderr",
          "output_type": "stream",
          "text": [
            "2022-12-29 22:17:58.971996: I tensorflow/core/platform/cpu_feature_guard.cc:193] This TensorFlow binary is optimized with oneAPI Deep Neural Network Library (oneDNN) to use the following CPU instructions in performance-critical operations:  AVX2 FMA\n",
            "To enable them in other operations, rebuild TensorFlow with the appropriate compiler flags.\n",
            "2022-12-29 22:17:59.102084: W tensorflow/compiler/xla/stream_executor/platform/default/dso_loader.cc:64] Could not load dynamic library 'libcudart.so.11.0'; dlerror: libcudart.so.11.0: cannot open shared object file: No such file or directory\n",
            "2022-12-29 22:17:59.102108: I tensorflow/compiler/xla/stream_executor/cuda/cudart_stub.cc:29] Ignore above cudart dlerror if you do not have a GPU set up on your machine.\n",
            "2022-12-29 22:17:59.762365: W tensorflow/compiler/xla/stream_executor/platform/default/dso_loader.cc:64] Could not load dynamic library 'libnvinfer.so.7'; dlerror: libnvinfer.so.7: cannot open shared object file: No such file or directory\n",
            "2022-12-29 22:17:59.762480: W tensorflow/compiler/xla/stream_executor/platform/default/dso_loader.cc:64] Could not load dynamic library 'libnvinfer_plugin.so.7'; dlerror: libnvinfer_plugin.so.7: cannot open shared object file: No such file or directory\n",
            "2022-12-29 22:17:59.762503: W tensorflow/compiler/tf2tensorrt/utils/py_utils.cc:38] TF-TRT Warning: Cannot dlopen some TensorRT libraries. If you would like to use Nvidia GPU with TensorRT, please make sure the missing libraries mentioned above are installed properly.\n"
          ]
        }
      ],
      "source": [
        "import numpy as np\n",
        "from tensorflow import keras\n",
        "from tensorflow.keras import layers\n",
        "import matplotlib.pyplot as plt\n",
        "from tensorflow.keras.optimizers import Adam, SGD\n",
        "import tensorflow as tf\n",
        "import os\n",
        "import shutil\n",
        "import cv2\n",
        "import pandas as pd"
      ]
    },
    {
      "cell_type": "code",
      "execution_count": 3,
      "id": "0uPTaqyG5bZz",
      "metadata": {
        "id": "0uPTaqyG5bZz"
      },
      "outputs": [],
      "source": [
        "from sklearn.model_selection import train_test_split"
      ]
    },
    {
      "cell_type": "code",
      "execution_count": 4,
      "id": "bee5964e",
      "metadata": {
        "colab": {
          "base_uri": "https://localhost:8080/"
        },
        "id": "bee5964e",
        "outputId": "37ba9263-8a1f-4e43-deaa-57c58ed16cfd"
      },
      "outputs": [
        {
          "name": "stdout",
          "output_type": "stream",
          "text": [
            "Num GPUs Available:  0\n"
          ]
        },
        {
          "name": "stderr",
          "output_type": "stream",
          "text": [
            "2022-12-29 22:18:00.930277: W tensorflow/compiler/xla/stream_executor/platform/default/dso_loader.cc:64] Could not load dynamic library 'libcuda.so.1'; dlerror: libcuda.so.1: cannot open shared object file: No such file or directory; LD_LIBRARY_PATH: /home/hrw/Work/temp_drafts/venv/lib/python3.10/site-packages/cv2/../../lib64:\n",
            "2022-12-29 22:18:00.930353: W tensorflow/compiler/xla/stream_executor/cuda/cuda_driver.cc:265] failed call to cuInit: UNKNOWN ERROR (303)\n",
            "2022-12-29 22:18:00.930385: I tensorflow/compiler/xla/stream_executor/cuda/cuda_diagnostics.cc:156] kernel driver does not appear to be running on this host (vm22): /proc/driver/nvidia/version does not exist\n"
          ]
        }
      ],
      "source": [
        "import tensorflow as tf\n",
        "print(\"Num GPUs Available: \", len(tf.config.list_physical_devices('GPU')))"
      ]
    },
    {
      "cell_type": "code",
      "execution_count": null,
      "id": "bc4f7b20",
      "metadata": {},
      "outputs": [],
      "source": []
    },
    {
      "cell_type": "code",
      "execution_count": 5,
      "id": "df31d8c1",
      "metadata": {
        "id": "df31d8c1"
      },
      "outputs": [],
      "source": [
        "# Model / data parameters\n",
        "num_classes = 10\n",
        "input_shape = (32, 32, 3)\n",
        "\n",
        "# Load the data and split it between train and test sets\n",
        "(x_train, y_train), (x_test, y_test) = keras.datasets.cifar10.load_data()\n",
        "# Scale images to the [0, 1] range\n",
        "x_train = x_train.astype(\"float32\") / 255\n",
        "x_test = x_test.astype(\"float32\") / 255"
      ]
    },
    {
      "cell_type": "code",
      "execution_count": 6,
      "id": "f61fcd3c",
      "metadata": {
        "colab": {
          "base_uri": "https://localhost:8080/"
        },
        "id": "f61fcd3c",
        "outputId": "9dbfbbaa-b0ff-4551-b593-9f1e652ad9e0"
      },
      "outputs": [
        {
          "name": "stdout",
          "output_type": "stream",
          "text": [
            "x_train shape: (50000, 32, 32, 3)\n",
            "50000 train samples\n",
            "10000 test samples\n"
          ]
        }
      ],
      "source": [
        "# Make sure images have shape (32, 32, 1)\n",
        "print(\"x_train shape:\", x_train.shape)\n",
        "print(x_train.shape[0], \"train samples\")\n",
        "print(x_test.shape[0], \"test samples\")\n",
        "\n",
        "# convert class vectors to binary class matrices\n",
        "y_train = keras.utils.to_categorical(y_train, num_classes)\n",
        "y_test = keras.utils.to_categorical(y_test, num_classes)"
      ]
    },
    {
      "cell_type": "code",
      "execution_count": 7,
      "id": "1a3f96d5",
      "metadata": {},
      "outputs": [
        {
          "name": "stderr",
          "output_type": "stream",
          "text": [
            "2022-12-29 22:18:01.783210: I tensorflow/core/platform/cpu_feature_guard.cc:193] This TensorFlow binary is optimized with oneAPI Deep Neural Network Library (oneDNN) to use the following CPU instructions in performance-critical operations:  AVX2 FMA\n",
            "To enable them in other operations, rebuild TensorFlow with the appropriate compiler flags.\n"
          ]
        }
      ],
      "source": [
        "from keras.models import load_model\n",
        "model = load_model('model.h5')"
      ]
    },
    {
      "cell_type": "code",
      "execution_count": 8,
      "id": "9QVKIT0mbj9e",
      "metadata": {
        "id": "9QVKIT0mbj9e"
      },
      "outputs": [
        {
          "name": "stdout",
          "output_type": "stream",
          "text": [
            "313/313 [==============================] - 9s 28ms/step\n"
          ]
        }
      ],
      "source": [
        "yhat = model.predict(x_test)\n",
        "y_predicted = np.argmax(yhat, axis = 1)\n",
        "y_true = np.argmax(y_test, axis=1)\n",
        "test_result = pd.DataFrame({'predicted': y_predicted, 'true':y_true})\n",
        "test_result['correct'] = (test_result['predicted'] == test_result['true'])\n",
        "summary = test_result.groupby(['true'])['correct'].agg(correct = 'sum', total = 'count')\n",
        "summary['correction_rate'] = summary['correct'] / summary['total'] * 100\n"
      ]
    },
    {
      "cell_type": "code",
      "execution_count": 9,
      "id": "9goMZ3FRior8",
      "metadata": {
        "colab": {
          "base_uri": "https://localhost:8080/",
          "height": 394
        },
        "id": "9goMZ3FRior8",
        "outputId": "57e6eb0d-be63-4aac-f535-3646ce6f8e11"
      },
      "outputs": [
        {
          "data": {
            "text/html": [
              "<div>\n",
              "<style scoped>\n",
              "    .dataframe tbody tr th:only-of-type {\n",
              "        vertical-align: middle;\n",
              "    }\n",
              "\n",
              "    .dataframe tbody tr th {\n",
              "        vertical-align: top;\n",
              "    }\n",
              "\n",
              "    .dataframe thead th {\n",
              "        text-align: right;\n",
              "    }\n",
              "</style>\n",
              "<table border=\"1\" class=\"dataframe\">\n",
              "  <thead>\n",
              "    <tr style=\"text-align: right;\">\n",
              "      <th></th>\n",
              "      <th>correct</th>\n",
              "      <th>total</th>\n",
              "      <th>correction_rate</th>\n",
              "    </tr>\n",
              "    <tr>\n",
              "      <th>true</th>\n",
              "      <th></th>\n",
              "      <th></th>\n",
              "      <th></th>\n",
              "    </tr>\n",
              "  </thead>\n",
              "  <tbody>\n",
              "    <tr>\n",
              "      <th>0</th>\n",
              "      <td>891</td>\n",
              "      <td>1000</td>\n",
              "      <td>89.1</td>\n",
              "    </tr>\n",
              "    <tr>\n",
              "      <th>1</th>\n",
              "      <td>905</td>\n",
              "      <td>1000</td>\n",
              "      <td>90.5</td>\n",
              "    </tr>\n",
              "    <tr>\n",
              "      <th>2</th>\n",
              "      <td>800</td>\n",
              "      <td>1000</td>\n",
              "      <td>80.0</td>\n",
              "    </tr>\n",
              "    <tr>\n",
              "      <th>3</th>\n",
              "      <td>617</td>\n",
              "      <td>1000</td>\n",
              "      <td>61.7</td>\n",
              "    </tr>\n",
              "    <tr>\n",
              "      <th>4</th>\n",
              "      <td>827</td>\n",
              "      <td>1000</td>\n",
              "      <td>82.7</td>\n",
              "    </tr>\n",
              "    <tr>\n",
              "      <th>5</th>\n",
              "      <td>782</td>\n",
              "      <td>1000</td>\n",
              "      <td>78.2</td>\n",
              "    </tr>\n",
              "    <tr>\n",
              "      <th>6</th>\n",
              "      <td>848</td>\n",
              "      <td>1000</td>\n",
              "      <td>84.8</td>\n",
              "    </tr>\n",
              "    <tr>\n",
              "      <th>7</th>\n",
              "      <td>865</td>\n",
              "      <td>1000</td>\n",
              "      <td>86.5</td>\n",
              "    </tr>\n",
              "    <tr>\n",
              "      <th>8</th>\n",
              "      <td>866</td>\n",
              "      <td>1000</td>\n",
              "      <td>86.6</td>\n",
              "    </tr>\n",
              "    <tr>\n",
              "      <th>9</th>\n",
              "      <td>915</td>\n",
              "      <td>1000</td>\n",
              "      <td>91.5</td>\n",
              "    </tr>\n",
              "  </tbody>\n",
              "</table>\n",
              "</div>"
            ],
            "text/plain": [
              "      correct  total  correction_rate\n",
              "true                                 \n",
              "0         891   1000             89.1\n",
              "1         905   1000             90.5\n",
              "2         800   1000             80.0\n",
              "3         617   1000             61.7\n",
              "4         827   1000             82.7\n",
              "5         782   1000             78.2\n",
              "6         848   1000             84.8\n",
              "7         865   1000             86.5\n",
              "8         866   1000             86.6\n",
              "9         915   1000             91.5"
            ]
          },
          "execution_count": 9,
          "metadata": {},
          "output_type": "execute_result"
        }
      ],
      "source": [
        "summary"
      ]
    },
    {
      "cell_type": "code",
      "execution_count": 10,
      "id": "QDEBL4NYhbq3",
      "metadata": {
        "id": "QDEBL4NYhbq3"
      },
      "outputs": [],
      "source": [
        "from sklearn.metrics import confusion_matrix"
      ]
    },
    {
      "cell_type": "code",
      "execution_count": 11,
      "id": "l4anFx9BiKNn",
      "metadata": {
        "colab": {
          "base_uri": "https://localhost:8080/"
        },
        "id": "l4anFx9BiKNn",
        "outputId": "e0f65bb9-d208-45c3-c459-a13e364b4fec"
      },
      "outputs": [
        {
          "data": {
            "text/plain": [
              "array([[891,  13,  34,   5,   9,   2,   6,   4,  20,  16],\n",
              "       [ 18, 905,   4,   3,   3,   2,   1,   2,   6,  56],\n",
              "       [ 43,   1, 800,  20,  57,  25,  25,  16,   8,   5],\n",
              "       [ 27,   9,  77, 617,  60, 121,  34,  33,   8,  14],\n",
              "       [ 10,   1,  68,  16, 827,  22,  14,  38,   3,   1],\n",
              "       [ 10,   2,  45,  76,  40, 782,  10,  30,   0,   5],\n",
              "       [  9,   3,  61,  21,  36,  13, 848,   5,   1,   3],\n",
              "       [ 13,   1,  31,  13,  43,  26,   1, 865,   0,   7],\n",
              "       [ 78,  15,   8,   4,   0,   2,   6,   4, 866,  17],\n",
              "       [ 22,  40,   5,   1,   0,   1,   1,   5,  10, 915]])"
            ]
          },
          "execution_count": 11,
          "metadata": {},
          "output_type": "execute_result"
        }
      ],
      "source": [
        "confusion_matrix(test_result['true'], test_result['predicted'])"
      ]
    },
    {
      "cell_type": "code",
      "execution_count": 12,
      "id": "38884ca4",
      "metadata": {},
      "outputs": [],
      "source": [
        "# given a category, show the images that are misclassified\n",
        "def show_misclassified_images(category):\n",
        "    misclassified = test_result[(test_result['true'] == category) & (test_result['correct'] == False)]\n",
        "    for i in range(0, 5):\n",
        "        img = x_test[misclassified.index[i]] * 255\n",
        "        cv2.imshow(str(misclassified.index[i]), img)\n",
        "        cv2.waitKey(0)\n",
        "        cv2.destroyAllWindows()"
      ]
    },
    {
      "cell_type": "code",
      "execution_count": null,
      "id": "c27d2b69",
      "metadata": {},
      "outputs": [],
      "source": []
    },
    {
      "cell_type": "code",
      "execution_count": 33,
      "id": "cd17c3ae",
      "metadata": {},
      "outputs": [],
      "source": [
        "# given two categories, show the images that are misclassified\n",
        "def show_misclassified_images_random(category1, category2, sample_size = 1):\n",
        "    misclassified = test_result[(test_result['true'] == category1) & (test_result['correct'] == False)]\n",
        "    misclassified = misclassified[misclassified['predicted'] == category2]\n",
        "    picked = misclassified.sample(sample_size).index\n",
        "    for i in picked:\n",
        "        img = x_test[i]\n",
        "        plt.imshow(img)\n",
        "        plt.show()"
      ]
    },
    {
      "cell_type": "code",
      "execution_count": 46,
      "id": "09a11de3",
      "metadata": {},
      "outputs": [
        {
          "data": {
            "image/png": "[encoded data removed]",
            "text/plain": [
              "<Figure size 640x480 with 1 Axes>"
            ]
          },
          "metadata": {},
          "output_type": "display_data"
        }
      ],
      "source": [
        "show_misclassified_images(0, 1, 1)"
      ]
    },
    {
      "cell_type": "code",
      "execution_count": 17,
      "id": "4iQlu5f2iSp_",
      "metadata": {
        "id": "4iQlu5f2iSp_"
      },
      "outputs": [
        {
          "data": {
            "text/plain": [
              "<matplotlib.image.AxesImage at 0x7f90703876a0>"
            ]
          },
          "execution_count": 17,
          "metadata": {},
          "output_type": "execute_result"
        },
        {
          "data": {
            "image/png": "[encoded data removed]",
            "text/plain": [
              "<Figure size 640x480 with 1 Axes>"
            ]
          },
          "metadata": {},
          "output_type": "display_data"
        }
      ],
      "source": [
        "img = x_train[6] \n",
        "plt.imshow(img)"
      ]
    },
    {
      "cell_type": "code",
      "execution_count": null,
      "id": "401fdebc",
      "metadata": {},
      "outputs": [],
      "source": []
    }
  ],
  "metadata": {
    "accelerator": "GPU",
    "colab": {
      "include_colab_link": true,
      "provenance": []
    },
    "gpuClass": "standard",
    "kernelspec": {
      "display_name": "venv",
      "language": "python",
      "name": "python3"
    },
    "language_info": {
      "codemirror_mode": {
        "name": "ipython",
        "version": 3
      },
      "file_extension": ".py",
      "mimetype": "text/x-python",
      "name": "python",
      "nbconvert_exporter": "python",
      "pygments_lexer": "ipython3",
      "version": "3.10.6"
    },
    "vscode": {
      "interpreter": {
        "hash": "e34f0ff522da13d6a19bdb8c93a393b2cb27768e2c97ed37a2cc3d8ddf2a898a"
      }
    }
  },
  "nbformat": 4,
  "nbformat_minor": 5
}
