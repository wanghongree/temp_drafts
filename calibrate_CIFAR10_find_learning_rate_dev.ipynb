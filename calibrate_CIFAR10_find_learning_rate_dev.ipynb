{
  "cells": [
    {
      "cell_type": "markdown",
      "metadata": {
        "id": "view-in-github",
        "colab_type": "text"
      },
      "source": [
        "<a href=\"https://colab.research.google.com/github/wanghongree/temp_drafts/blob/main/calibrate_CIFAR10_find_learning_rate_dev.ipynb\" target=\"_parent\"><img src=\"https://colab.research.google.com/assets/colab-badge.svg\" alt=\"Open In Colab\"/></a>"
      ]
    },
    {
      "cell_type": "code",
      "execution_count": null,
      "metadata": {
        "id": "dgWpJft4yFA7"
      },
      "outputs": [],
      "source": [
        "# Load the TensorBoard notebook extension\n",
        "%load_ext tensorboard"
      ],
      "id": "dgWpJft4yFA7"
    },
    {
      "cell_type": "code",
      "execution_count": null,
      "metadata": {
        "id": "6e1e7956",
        "scrolled": true
      },
      "outputs": [],
      "source": [
        "import numpy as np\n",
        "from tensorflow import keras\n",
        "from tensorflow.keras import layers\n",
        "import matplotlib.pyplot as plt\n",
        "from tensorflow.keras.optimizers import Adam, SGD\n",
        "import tensorflow as tf\n",
        "import os\n",
        "import shutil"
      ],
      "id": "6e1e7956"
    },
    {
      "cell_type": "code",
      "execution_count": null,
      "metadata": {
        "id": "0uPTaqyG5bZz"
      },
      "outputs": [],
      "source": [
        "from sklearn.model_selection import train_test_split"
      ],
      "id": "0uPTaqyG5bZz"
    },
    {
      "cell_type": "code",
      "execution_count": null,
      "metadata": {
        "colab": {
          "base_uri": "https://localhost:8080/"
        },
        "id": "bee5964e",
        "outputId": "4ab4b2d9-f6a8-4ea3-e081-e9268fa1814d"
      },
      "outputs": [
        {
          "output_type": "stream",
          "name": "stdout",
          "text": [
            "Num GPUs Available:  1\n"
          ]
        }
      ],
      "source": [
        "import tensorflow as tf\n",
        "print(\"Num GPUs Available: \", len(tf.config.list_physical_devices('GPU')))"
      ],
      "id": "bee5964e"
    },
    {
      "cell_type": "code",
      "execution_count": null,
      "metadata": {
        "id": "88e06ab3"
      },
      "outputs": [],
      "source": [
        "if os.path.exists('logs'):\n",
        "    shutil.rmtree('logs')\n",
        "os.mkdir('logs')\n",
        "\n",
        "if os.path.exists('saved_model'):\n",
        "    shutil.rmtree('saved_model')\n",
        "os.mkdir('saved_model')"
      ],
      "id": "88e06ab3"
    },
    {
      "cell_type": "code",
      "execution_count": null,
      "metadata": {
        "id": "df31d8c1",
        "colab": {
          "base_uri": "https://localhost:8080/"
        },
        "outputId": "61624c4c-553e-4321-d755-51b93b4895b7"
      },
      "outputs": [
        {
          "output_type": "stream",
          "name": "stdout",
          "text": [
            "Downloading data from https://www.cs.toronto.edu/~kriz/cifar-10-python.tar.gz\n",
            "170498071/170498071 [==============================] - 2s 0us/step\n"
          ]
        }
      ],
      "source": [
        "# Model / data parameters\n",
        "num_classes = 10\n",
        "input_shape = (32, 32, 3)\n",
        "\n",
        "# Load the data and split it between train and test sets\n",
        "(x_train, y_train), (x_test, y_test) = keras.datasets.cifar10.load_data()\n",
        "# Scale images to the [0, 1] range\n",
        "x_train = x_train.astype(\"float32\") / 255\n",
        "x_test = x_test.astype(\"float32\") / 255"
      ],
      "id": "df31d8c1"
    },
    {
      "cell_type": "code",
      "execution_count": null,
      "metadata": {
        "colab": {
          "base_uri": "https://localhost:8080/"
        },
        "id": "f61fcd3c",
        "outputId": "e62c9973-e9de-4ae0-f182-6482ab8f6e19"
      },
      "outputs": [
        {
          "output_type": "stream",
          "name": "stdout",
          "text": [
            "x_train shape: (50000, 32, 32, 3)\n",
            "50000 train samples\n",
            "10000 test samples\n"
          ]
        }
      ],
      "source": [
        "# Make sure images have shape (32, 32, 1)\n",
        "print(\"x_train shape:\", x_train.shape)\n",
        "print(x_train.shape[0], \"train samples\")\n",
        "print(x_test.shape[0], \"test samples\")\n",
        "\n",
        "# convert class vectors to binary class matrices\n",
        "y_train = keras.utils.to_categorical(y_train, num_classes)\n",
        "y_test = keras.utils.to_categorical(y_test, num_classes)"
      ],
      "id": "f61fcd3c"
    },
    {
      "cell_type": "raw",
      "metadata": {
        "id": "82d459e2"
      },
      "source": [
        "my_callbacks = [\n",
        "    #tf.keras.callbacks.EarlyStopping(patience=2),\n",
        "    tf.keras.callbacks.ModelCheckpoint(filepath='./saved_model/model.{epoch:02d}-{val_loss:.2f}.h5', period = 10),\n",
        "    tf.keras.callbacks.TensorBoard(log_dir='./logs',\n",
        "                         histogram_freq=1,\n",
        "                         write_graph=True,\n",
        "                         write_images=True,\n",
        "                         update_freq='epoch',\n",
        "                         profile_batch=2,\n",
        "                         embeddings_freq=1)\n",
        "]\n"
      ],
      "id": "82d459e2"
    },
    {
      "cell_type": "code",
      "execution_count": null,
      "metadata": {
        "id": "jc49ef-pxZfn"
      },
      "outputs": [],
      "source": [
        "batch_end_loss = list()\n",
        "\n",
        "class SaveBatchLoss(tf.keras.callbacks.Callback):\n",
        "    def on_train_batch_end(self, batch, logs=None):\n",
        "        batch_end_loss.append(logs['loss'])\n"
      ],
      "id": "jc49ef-pxZfn"
    },
    {
      "cell_type": "code",
      "execution_count": null,
      "metadata": {
        "id": "11fa5aad"
      },
      "outputs": [],
      "source": [
        "my_callbacks = [#tf.keras.callbacks.ModelCheckpoint(filepath='./saved_model/model.{epoch:02d}-{val_loss:.2f}.h5', save_best_only=True), \n",
        "                #SaveBatchLoss()\n",
        "                ]"
      ],
      "id": "11fa5aad"
    },
    {
      "cell_type": "code",
      "execution_count": null,
      "metadata": {
        "id": "1ce05db7"
      },
      "outputs": [],
      "source": [
        "batch_size = 256\n",
        "steps_per_epoch = 400\n",
        "# learning_rate = 0.001\n",
        "epochs = 300\n"
      ],
      "id": "1ce05db7"
    },
    {
      "cell_type": "code",
      "execution_count": null,
      "metadata": {
        "id": "851080b0"
      },
      "outputs": [],
      "source": [
        "model_name = 'model222'"
      ],
      "id": "851080b0"
    },
    {
      "cell_type": "code",
      "execution_count": null,
      "metadata": {
        "id": "b6s3zt72bGrp"
      },
      "outputs": [],
      "source": [
        "kr=None\n",
        "br=None"
      ],
      "id": "b6s3zt72bGrp"
    },
    {
      "cell_type": "code",
      "execution_count": null,
      "metadata": {
        "id": "f7e3c8d1"
      },
      "outputs": [],
      "source": [
        "def create_model():\n",
        "  inputs = keras.Input(shape=input_shape)\n",
        "  short_cut1 = layers.Conv2D(32, kernel_size=(3, 3), padding = 'same', kernel_regularizer = kr, bias_regularizer = br)(inputs)\n",
        "  short_cut1 = layers.BatchNormalization()(short_cut1)\n",
        "  x = layers.Conv2D(32, kernel_size=(3, 3), padding = 'same', kernel_regularizer = kr, bias_regularizer = br)(inputs)\n",
        "  x = layers.BatchNormalization()(x)\n",
        "  x = layers.ReLU()(x)\n",
        "  x = layers.Conv2D(32, kernel_size=(3, 3), padding = 'same', kernel_regularizer = kr, bias_regularizer = br)(x)\n",
        "  x = layers.BatchNormalization()(x)\n",
        "  x = layers.ReLU()(x)\n",
        "  x = layers.Conv2D(32, kernel_size=(3, 3), padding = 'same', kernel_regularizer = kr, bias_regularizer = br)(x)\n",
        "  x = layers.BatchNormalization()(x)\n",
        "  x = layers.Add()([short_cut1, x])\n",
        "  x = layers.ReLU()(x)\n",
        "  x = layers.MaxPooling2D(pool_size=(2, 2))(x)\n",
        "  short_cut2 = layers.Conv2D(64, kernel_size=(3, 3), padding = 'same', kernel_regularizer = kr, bias_regularizer = br)(x)\n",
        "  short_cut2 = layers.BatchNormalization()(short_cut2)\n",
        "  x = layers.Conv2D(64, kernel_size=(3, 3), padding = 'same', kernel_regularizer = kr, bias_regularizer = br)(x)\n",
        "  x = layers.BatchNormalization()(x)\n",
        "  x = layers.ReLU()(x)\n",
        "  x = layers.Conv2D(64, kernel_size=(3, 3), padding = 'same', kernel_regularizer = kr, bias_regularizer = br)(x)\n",
        "  x = layers.BatchNormalization()(x)  \n",
        "  x = layers.ReLU()(x)\n",
        "  x = layers.Conv2D(64, kernel_size=(3, 3), padding = 'same', kernel_regularizer = kr, bias_regularizer = br)(x)\n",
        "  x = layers.BatchNormalization()(x)\n",
        "  x = layers.Add()([short_cut2, x])\n",
        "  x = layers.ReLU()(x)\n",
        "  x = layers.GlobalAveragePooling2D()(x)\n",
        "  x = layers.Flatten()(x)\n",
        "  # x = layers.Dropout(0.5)(x)\n",
        "  x = layers.Dense(num_classes, activation=\"softmax\", kernel_regularizer = kr, bias_regularizer = br)(x)\n",
        "  model =  tf.keras.Model(inputs, x, name=model_name)\n",
        "  return model"
      ],
      "id": "f7e3c8d1"
    },
    {
      "cell_type": "code",
      "execution_count": null,
      "metadata": {
        "id": "334143a6"
      },
      "outputs": [],
      "source": [
        "# model.count_params()"
      ],
      "id": "334143a6"
    },
    {
      "cell_type": "code",
      "execution_count": null,
      "metadata": {
        "colab": {
          "base_uri": "https://localhost:8080/"
        },
        "id": "OG6fPULL3zD6",
        "outputId": "e0c23805-e31c-4e68-8daf-0463e6dcc58e"
      },
      "outputs": [
        {
          "output_type": "execute_result",
          "data": {
            "text/plain": [
              "(50000, 32, 32, 3)"
            ]
          },
          "metadata": {},
          "execution_count": 15
        }
      ],
      "source": [
        "x_train.shape"
      ],
      "id": "OG6fPULL3zD6"
    },
    {
      "cell_type": "code",
      "execution_count": null,
      "metadata": {
        "id": "X6nPgb9t50_9"
      },
      "outputs": [],
      "source": [
        "# x_tra, x_val, y_tra, y_val = train_test_split(x_train, y_train, test_size=0.2)"
      ],
      "id": "X6nPgb9t50_9"
    },
    {
      "cell_type": "code",
      "execution_count": null,
      "metadata": {
        "id": "dQwS48CcVYxz"
      },
      "outputs": [],
      "source": [
        "import pickle"
      ],
      "id": "dQwS48CcVYxz"
    },
    {
      "cell_type": "code",
      "execution_count": null,
      "metadata": {
        "colab": {
          "base_uri": "https://localhost:8080/"
        },
        "id": "H0tVAZEHVLuc",
        "outputId": "2415cd6f-9df9-4a16-b219-8bec745a356b"
      },
      "outputs": [
        {
          "output_type": "stream",
          "name": "stdout",
          "text": [
            "Epoch 1/300\n",
            "400/400 [==============================] - 26s 43ms/step - loss: 1.9168 - accuracy: 0.3090 - val_loss: 2.1555 - val_accuracy: 0.2047\n",
            "Epoch 2/300\n",
            "400/400 [==============================] - 17s 42ms/step - loss: 1.6633 - accuracy: 0.4033 - val_loss: 1.6044 - val_accuracy: 0.4241\n",
            "Epoch 3/300\n",
            "400/400 [==============================] - 17s 43ms/step - loss: 1.5565 - accuracy: 0.4454 - val_loss: 1.5184 - val_accuracy: 0.4550\n",
            "Epoch 4/300\n",
            "400/400 [==============================] - 17s 42ms/step - loss: 1.4816 - accuracy: 0.4752 - val_loss: 1.5198 - val_accuracy: 0.4643\n",
            "Epoch 5/300\n",
            "400/400 [==============================] - 17s 42ms/step - loss: 1.4175 - accuracy: 0.5004 - val_loss: 1.4094 - val_accuracy: 0.4948\n",
            "Epoch 6/300\n",
            "400/400 [==============================] - 17s 42ms/step - loss: 1.3638 - accuracy: 0.5198 - val_loss: 1.3657 - val_accuracy: 0.5064\n",
            "Epoch 7/300\n",
            "400/400 [==============================] - 17s 42ms/step - loss: 1.3108 - accuracy: 0.5402 - val_loss: 1.7015 - val_accuracy: 0.4239\n",
            "Epoch 8/300\n",
            "400/400 [==============================] - 17s 42ms/step - loss: 1.2699 - accuracy: 0.5522 - val_loss: 1.3379 - val_accuracy: 0.5101\n",
            "Epoch 9/300\n",
            "400/400 [==============================] - 17s 42ms/step - loss: 1.2301 - accuracy: 0.5674 - val_loss: 1.2915 - val_accuracy: 0.5462\n",
            "Epoch 10/300\n",
            "400/400 [==============================] - 17s 42ms/step - loss: 1.1971 - accuracy: 0.5804 - val_loss: 1.4819 - val_accuracy: 0.4524\n",
            "Epoch 11/300\n",
            "400/400 [==============================] - 17s 42ms/step - loss: 1.1668 - accuracy: 0.5914 - val_loss: 1.3985 - val_accuracy: 0.4722\n",
            "Epoch 12/300\n",
            "400/400 [==============================] - 17s 42ms/step - loss: 1.1399 - accuracy: 0.6014 - val_loss: 1.5775 - val_accuracy: 0.4289\n",
            "Epoch 13/300\n",
            "400/400 [==============================] - 17s 42ms/step - loss: 1.1138 - accuracy: 0.6098 - val_loss: 1.2469 - val_accuracy: 0.5523\n",
            "Epoch 14/300\n",
            "400/400 [==============================] - 17s 42ms/step - loss: 1.0913 - accuracy: 0.6177 - val_loss: 1.2366 - val_accuracy: 0.5678\n",
            "Epoch 15/300\n",
            "400/400 [==============================] - 17s 42ms/step - loss: 1.0676 - accuracy: 0.6275 - val_loss: 1.1833 - val_accuracy: 0.5837\n",
            "Epoch 16/300\n",
            "400/400 [==============================] - 17s 42ms/step - loss: 1.0463 - accuracy: 0.6343 - val_loss: 1.2217 - val_accuracy: 0.5598\n",
            "Epoch 17/300\n",
            "400/400 [==============================] - 17s 42ms/step - loss: 1.0264 - accuracy: 0.6420 - val_loss: 1.1744 - val_accuracy: 0.5795\n",
            "Epoch 18/300\n",
            "400/400 [==============================] - 17s 42ms/step - loss: 1.0103 - accuracy: 0.6455 - val_loss: 1.3084 - val_accuracy: 0.5489\n",
            "Epoch 19/300\n",
            "400/400 [==============================] - 17s 42ms/step - loss: 0.9925 - accuracy: 0.6531 - val_loss: 1.0793 - val_accuracy: 0.6166\n",
            "Epoch 20/300\n",
            "400/400 [==============================] - 17s 42ms/step - loss: 0.9732 - accuracy: 0.6592 - val_loss: 1.0239 - val_accuracy: 0.6403\n",
            "Epoch 21/300\n",
            "400/400 [==============================] - 17s 42ms/step - loss: 0.9584 - accuracy: 0.6656 - val_loss: 1.1507 - val_accuracy: 0.5882\n",
            "Epoch 22/300\n",
            "400/400 [==============================] - 17s 42ms/step - loss: 0.9413 - accuracy: 0.6720 - val_loss: 1.0246 - val_accuracy: 0.6398\n",
            "Epoch 23/300\n",
            "400/400 [==============================] - 17s 42ms/step - loss: 0.9271 - accuracy: 0.6776 - val_loss: 1.0624 - val_accuracy: 0.6168\n",
            "Epoch 24/300\n",
            "400/400 [==============================] - 17s 42ms/step - loss: 0.9123 - accuracy: 0.6817 - val_loss: 0.9906 - val_accuracy: 0.6576\n",
            "Epoch 25/300\n",
            "400/400 [==============================] - 17s 42ms/step - loss: 0.8994 - accuracy: 0.6879 - val_loss: 1.0001 - val_accuracy: 0.6461\n",
            "Epoch 26/300\n",
            "400/400 [==============================] - 17s 42ms/step - loss: 0.8836 - accuracy: 0.6922 - val_loss: 1.1304 - val_accuracy: 0.5889\n",
            "Epoch 27/300\n",
            "400/400 [==============================] - 17s 42ms/step - loss: 0.8719 - accuracy: 0.6963 - val_loss: 1.0411 - val_accuracy: 0.6320\n",
            "Epoch 28/300\n",
            "400/400 [==============================] - 17s 42ms/step - loss: 0.8592 - accuracy: 0.7018 - val_loss: 1.1675 - val_accuracy: 0.5880\n",
            "Epoch 29/300\n",
            "400/400 [==============================] - 17s 42ms/step - loss: 0.8484 - accuracy: 0.7048 - val_loss: 1.2703 - val_accuracy: 0.5503\n",
            "Epoch 30/300\n",
            "400/400 [==============================] - 17s 42ms/step - loss: 0.8347 - accuracy: 0.7106 - val_loss: 0.9637 - val_accuracy: 0.6559\n",
            "Epoch 31/300\n",
            "400/400 [==============================] - 17s 42ms/step - loss: 0.8200 - accuracy: 0.7158 - val_loss: 0.8974 - val_accuracy: 0.6841\n",
            "Epoch 32/300\n",
            "400/400 [==============================] - 17s 42ms/step - loss: 0.8106 - accuracy: 0.7191 - val_loss: 0.9549 - val_accuracy: 0.6657\n",
            "Epoch 33/300\n",
            "400/400 [==============================] - 17s 42ms/step - loss: 0.8028 - accuracy: 0.7213 - val_loss: 0.9411 - val_accuracy: 0.6693\n",
            "Epoch 34/300\n",
            "400/400 [==============================] - 17s 42ms/step - loss: 0.7876 - accuracy: 0.7286 - val_loss: 0.9825 - val_accuracy: 0.6521\n",
            "Epoch 35/300\n",
            "400/400 [==============================] - 17s 42ms/step - loss: 0.7820 - accuracy: 0.7298 - val_loss: 1.1181 - val_accuracy: 0.6068\n",
            "Epoch 36/300\n",
            "400/400 [==============================] - 17s 42ms/step - loss: 0.7710 - accuracy: 0.7336 - val_loss: 1.0265 - val_accuracy: 0.6309\n",
            "Epoch 37/300\n",
            "400/400 [==============================] - 17s 42ms/step - loss: 0.7584 - accuracy: 0.7383 - val_loss: 0.9229 - val_accuracy: 0.6719\n",
            "Epoch 38/300\n",
            "400/400 [==============================] - 17s 42ms/step - loss: 0.7527 - accuracy: 0.7412 - val_loss: 0.9703 - val_accuracy: 0.6612\n",
            "Epoch 39/300\n",
            "400/400 [==============================] - 17s 42ms/step - loss: 0.7402 - accuracy: 0.7445 - val_loss: 0.9561 - val_accuracy: 0.6667\n",
            "Epoch 40/300\n",
            "400/400 [==============================] - 17s 42ms/step - loss: 0.7302 - accuracy: 0.7475 - val_loss: 1.0047 - val_accuracy: 0.6507\n",
            "Epoch 41/300\n",
            "400/400 [==============================] - 17s 42ms/step - loss: 0.7250 - accuracy: 0.7506 - val_loss: 0.9984 - val_accuracy: 0.6530\n",
            "Epoch 42/300\n",
            "400/400 [==============================] - 17s 42ms/step - loss: 0.7155 - accuracy: 0.7529 - val_loss: 0.9003 - val_accuracy: 0.6816\n",
            "Epoch 43/300\n",
            "400/400 [==============================] - 17s 42ms/step - loss: 0.7058 - accuracy: 0.7565 - val_loss: 1.0129 - val_accuracy: 0.6356\n",
            "Epoch 44/300\n",
            "400/400 [==============================] - 17s 42ms/step - loss: 0.6973 - accuracy: 0.7599 - val_loss: 0.8818 - val_accuracy: 0.6879\n",
            "Epoch 45/300\n",
            "400/400 [==============================] - 17s 42ms/step - loss: 0.6910 - accuracy: 0.7631 - val_loss: 0.8367 - val_accuracy: 0.7010\n",
            "Epoch 46/300\n",
            "400/400 [==============================] - 17s 42ms/step - loss: 0.6845 - accuracy: 0.7637 - val_loss: 0.8473 - val_accuracy: 0.7010\n",
            "Epoch 47/300\n",
            "400/400 [==============================] - 17s 42ms/step - loss: 0.6737 - accuracy: 0.7681 - val_loss: 0.8995 - val_accuracy: 0.6824\n",
            "Epoch 48/300\n",
            "400/400 [==============================] - 17s 42ms/step - loss: 0.6642 - accuracy: 0.7715 - val_loss: 0.8527 - val_accuracy: 0.7006\n",
            "Epoch 49/300\n",
            "400/400 [==============================] - 17s 42ms/step - loss: 0.6589 - accuracy: 0.7736 - val_loss: 0.9454 - val_accuracy: 0.6617\n",
            "Epoch 50/300\n",
            "400/400 [==============================] - 17s 42ms/step - loss: 0.6513 - accuracy: 0.7763 - val_loss: 0.8275 - val_accuracy: 0.7130\n",
            "Epoch 51/300\n",
            "400/400 [==============================] - 17s 42ms/step - loss: 0.6458 - accuracy: 0.7785 - val_loss: 0.8377 - val_accuracy: 0.7082\n",
            "Epoch 52/300\n",
            "400/400 [==============================] - 17s 42ms/step - loss: 0.6375 - accuracy: 0.7815 - val_loss: 0.8312 - val_accuracy: 0.7049\n",
            "Epoch 53/300\n",
            "400/400 [==============================] - 17s 42ms/step - loss: 0.6318 - accuracy: 0.7841 - val_loss: 0.8916 - val_accuracy: 0.6928\n",
            "Epoch 54/300\n",
            "400/400 [==============================] - 17s 42ms/step - loss: 0.6259 - accuracy: 0.7849 - val_loss: 0.8465 - val_accuracy: 0.7051\n",
            "Epoch 55/300\n",
            "400/400 [==============================] - 17s 42ms/step - loss: 0.6158 - accuracy: 0.7901 - val_loss: 0.8075 - val_accuracy: 0.7225\n",
            "Epoch 56/300\n",
            "400/400 [==============================] - 17s 42ms/step - loss: 0.6107 - accuracy: 0.7926 - val_loss: 0.7653 - val_accuracy: 0.7320\n",
            "Epoch 57/300\n",
            "400/400 [==============================] - 17s 42ms/step - loss: 0.6035 - accuracy: 0.7935 - val_loss: 0.7774 - val_accuracy: 0.7228\n",
            "Epoch 58/300\n",
            "400/400 [==============================] - 17s 42ms/step - loss: 0.5980 - accuracy: 0.7956 - val_loss: 0.8079 - val_accuracy: 0.7259\n",
            "Epoch 59/300\n",
            "400/400 [==============================] - 17s 42ms/step - loss: 0.5909 - accuracy: 0.7990 - val_loss: 0.8500 - val_accuracy: 0.6979\n",
            "Epoch 60/300\n",
            "400/400 [==============================] - 17s 42ms/step - loss: 0.5842 - accuracy: 0.7994 - val_loss: 0.7911 - val_accuracy: 0.7235\n",
            "Epoch 61/300\n",
            "400/400 [==============================] - 17s 42ms/step - loss: 0.5791 - accuracy: 0.8024 - val_loss: 0.7601 - val_accuracy: 0.7320\n",
            "Epoch 62/300\n",
            "400/400 [==============================] - 17s 42ms/step - loss: 0.5721 - accuracy: 0.8050 - val_loss: 0.8408 - val_accuracy: 0.7061\n",
            "Epoch 63/300\n",
            "400/400 [==============================] - 17s 42ms/step - loss: 0.5651 - accuracy: 0.8078 - val_loss: 0.7768 - val_accuracy: 0.7319\n",
            "Epoch 64/300\n",
            "400/400 [==============================] - 17s 42ms/step - loss: 0.5609 - accuracy: 0.8085 - val_loss: 0.7938 - val_accuracy: 0.7207\n",
            "Epoch 65/300\n",
            "400/400 [==============================] - 17s 42ms/step - loss: 0.5558 - accuracy: 0.8097 - val_loss: 0.7633 - val_accuracy: 0.7368\n",
            "Epoch 66/300\n",
            "400/400 [==============================] - 17s 42ms/step - loss: 0.5482 - accuracy: 0.8138 - val_loss: 0.7733 - val_accuracy: 0.7295\n",
            "Epoch 67/300\n",
            "400/400 [==============================] - 17s 42ms/step - loss: 0.5444 - accuracy: 0.8148 - val_loss: 0.8369 - val_accuracy: 0.7117\n",
            "Epoch 68/300\n",
            "400/400 [==============================] - 17s 42ms/step - loss: 0.5377 - accuracy: 0.8177 - val_loss: 1.1717 - val_accuracy: 0.6376\n",
            "Epoch 69/300\n",
            "400/400 [==============================] - 17s 42ms/step - loss: 0.5315 - accuracy: 0.8202 - val_loss: 0.8368 - val_accuracy: 0.7181\n",
            "Epoch 70/300\n",
            "400/400 [==============================] - 17s 42ms/step - loss: 0.5265 - accuracy: 0.8207 - val_loss: 1.0489 - val_accuracy: 0.6669\n",
            "Epoch 71/300\n",
            "400/400 [==============================] - 17s 42ms/step - loss: 0.5219 - accuracy: 0.8223 - val_loss: 0.8007 - val_accuracy: 0.7225\n",
            "Epoch 72/300\n",
            "400/400 [==============================] - 17s 42ms/step - loss: 0.5161 - accuracy: 0.8257 - val_loss: 0.8318 - val_accuracy: 0.7131\n",
            "Epoch 73/300\n",
            "400/400 [==============================] - 17s 42ms/step - loss: 0.5116 - accuracy: 0.8264 - val_loss: 0.7828 - val_accuracy: 0.7314\n",
            "Epoch 74/300\n",
            "400/400 [==============================] - 17s 42ms/step - loss: 0.5066 - accuracy: 0.8276 - val_loss: 0.8727 - val_accuracy: 0.7076\n",
            "Epoch 75/300\n",
            "400/400 [==============================] - 17s 42ms/step - loss: 0.5011 - accuracy: 0.8309 - val_loss: 0.7802 - val_accuracy: 0.7199\n",
            "Epoch 76/300\n",
            "400/400 [==============================] - 17s 42ms/step - loss: 0.4932 - accuracy: 0.8326 - val_loss: 0.7909 - val_accuracy: 0.7271\n",
            "Epoch 77/300\n",
            "400/400 [==============================] - 17s 42ms/step - loss: 0.4921 - accuracy: 0.8335 - val_loss: 0.8018 - val_accuracy: 0.7294\n",
            "Epoch 78/300\n",
            "400/400 [==============================] - 17s 42ms/step - loss: 0.4872 - accuracy: 0.8345 - val_loss: 0.8223 - val_accuracy: 0.7170\n",
            "Epoch 79/300\n",
            "400/400 [==============================] - 17s 42ms/step - loss: 0.4805 - accuracy: 0.8373 - val_loss: 0.7677 - val_accuracy: 0.7330\n",
            "Epoch 80/300\n",
            "400/400 [==============================] - 17s 42ms/step - loss: 0.4786 - accuracy: 0.8379 - val_loss: 0.9299 - val_accuracy: 0.6817\n",
            "Epoch 81/300\n",
            "400/400 [==============================] - 17s 42ms/step - loss: 0.4706 - accuracy: 0.8418 - val_loss: 1.1079 - val_accuracy: 0.6634\n",
            "Epoch 82/300\n",
            "400/400 [==============================] - 17s 42ms/step - loss: 0.4663 - accuracy: 0.8437 - val_loss: 0.7730 - val_accuracy: 0.7323\n",
            "Epoch 83/300\n",
            "400/400 [==============================] - 17s 42ms/step - loss: 0.4630 - accuracy: 0.8442 - val_loss: 0.7360 - val_accuracy: 0.7487\n",
            "Epoch 84/300\n",
            "400/400 [==============================] - 17s 42ms/step - loss: 0.4573 - accuracy: 0.8456 - val_loss: 0.7520 - val_accuracy: 0.7390\n",
            "Epoch 85/300\n",
            "400/400 [==============================] - 17s 42ms/step - loss: 0.4529 - accuracy: 0.8477 - val_loss: 0.7903 - val_accuracy: 0.7342\n",
            "Epoch 86/300\n",
            "400/400 [==============================] - 17s 42ms/step - loss: 0.4486 - accuracy: 0.8495 - val_loss: 0.7877 - val_accuracy: 0.7323\n",
            "Epoch 87/300\n",
            "400/400 [==============================] - 17s 42ms/step - loss: 0.4464 - accuracy: 0.8502 - val_loss: 0.8905 - val_accuracy: 0.6996\n",
            "Epoch 88/300\n",
            "400/400 [==============================] - 17s 42ms/step - loss: 0.4398 - accuracy: 0.8536 - val_loss: 0.6916 - val_accuracy: 0.7646\n",
            "Epoch 89/300\n",
            "400/400 [==============================] - 17s 42ms/step - loss: 0.4371 - accuracy: 0.8536 - val_loss: 0.7243 - val_accuracy: 0.7571\n",
            "Epoch 90/300\n",
            "400/400 [==============================] - 17s 42ms/step - loss: 0.4290 - accuracy: 0.8564 - val_loss: 0.9183 - val_accuracy: 0.6938\n",
            "Epoch 91/300\n",
            "400/400 [==============================] - 17s 42ms/step - loss: 0.4273 - accuracy: 0.8564 - val_loss: 0.7476 - val_accuracy: 0.7421\n",
            "Epoch 92/300\n",
            "400/400 [==============================] - 17s 42ms/step - loss: 0.4248 - accuracy: 0.8578 - val_loss: 0.7120 - val_accuracy: 0.7574\n",
            "Epoch 93/300\n",
            "400/400 [==============================] - 17s 42ms/step - loss: 0.4209 - accuracy: 0.8584 - val_loss: 0.7767 - val_accuracy: 0.7412\n",
            "Epoch 94/300\n",
            "400/400 [==============================] - 17s 42ms/step - loss: 0.4143 - accuracy: 0.8619 - val_loss: 0.8635 - val_accuracy: 0.7204\n",
            "Epoch 95/300\n",
            "400/400 [==============================] - 17s 42ms/step - loss: 0.4128 - accuracy: 0.8609 - val_loss: 0.8575 - val_accuracy: 0.7133\n",
            "Epoch 96/300\n",
            "400/400 [==============================] - 17s 42ms/step - loss: 0.4062 - accuracy: 0.8652 - val_loss: 0.7145 - val_accuracy: 0.7554\n",
            "Epoch 97/300\n",
            "400/400 [==============================] - 17s 42ms/step - loss: 0.4042 - accuracy: 0.8649 - val_loss: 0.7230 - val_accuracy: 0.7508\n",
            "Epoch 98/300\n",
            "400/400 [==============================] - 17s 42ms/step - loss: 0.3981 - accuracy: 0.8679 - val_loss: 2.5166 - val_accuracy: 0.4101\n",
            "Epoch 99/300\n",
            "400/400 [==============================] - 17s 42ms/step - loss: 0.3957 - accuracy: 0.8680 - val_loss: 0.7343 - val_accuracy: 0.7531\n",
            "Epoch 100/300\n",
            "400/400 [==============================] - 17s 42ms/step - loss: 0.3912 - accuracy: 0.8703 - val_loss: 0.7613 - val_accuracy: 0.7420\n",
            "Epoch 101/300\n",
            "400/400 [==============================] - 17s 42ms/step - loss: 0.3884 - accuracy: 0.8714 - val_loss: 0.6959 - val_accuracy: 0.7644\n",
            "Epoch 102/300\n",
            "400/400 [==============================] - 17s 42ms/step - loss: 0.3829 - accuracy: 0.8732 - val_loss: 0.8333 - val_accuracy: 0.7258\n",
            "Epoch 103/300\n",
            "400/400 [==============================] - 17s 42ms/step - loss: 0.3812 - accuracy: 0.8737 - val_loss: 1.0509 - val_accuracy: 0.6880\n",
            "Epoch 104/300\n",
            "400/400 [==============================] - 17s 42ms/step - loss: 0.3743 - accuracy: 0.8770 - val_loss: 0.6789 - val_accuracy: 0.7678\n",
            "Epoch 105/300\n",
            "400/400 [==============================] - 17s 42ms/step - loss: 0.3747 - accuracy: 0.8759 - val_loss: 0.7189 - val_accuracy: 0.7587\n",
            "Epoch 106/300\n",
            "400/400 [==============================] - 17s 42ms/step - loss: 0.3682 - accuracy: 0.8772 - val_loss: 1.0897 - val_accuracy: 0.6583\n",
            "Epoch 107/300\n",
            "400/400 [==============================] - 17s 42ms/step - loss: 0.3664 - accuracy: 0.8796 - val_loss: 0.8207 - val_accuracy: 0.7360\n",
            "Epoch 108/300\n",
            "400/400 [==============================] - 17s 42ms/step - loss: 0.3604 - accuracy: 0.8811 - val_loss: 0.8463 - val_accuracy: 0.7163\n",
            "Epoch 109/300\n",
            "400/400 [==============================] - 17s 42ms/step - loss: 0.3581 - accuracy: 0.8822 - val_loss: 0.7316 - val_accuracy: 0.7486\n",
            "Epoch 110/300\n",
            "400/400 [==============================] - 17s 42ms/step - loss: 0.3574 - accuracy: 0.8815 - val_loss: 0.7478 - val_accuracy: 0.7527\n",
            "Epoch 111/300\n",
            "400/400 [==============================] - 17s 42ms/step - loss: 0.3480 - accuracy: 0.8862 - val_loss: 0.8360 - val_accuracy: 0.7315\n",
            "Epoch 112/300\n",
            "400/400 [==============================] - 17s 42ms/step - loss: 0.3477 - accuracy: 0.8857 - val_loss: 0.8493 - val_accuracy: 0.7226\n",
            "Epoch 113/300\n",
            "400/400 [==============================] - 17s 42ms/step - loss: 0.3442 - accuracy: 0.8879 - val_loss: 0.8774 - val_accuracy: 0.7210\n",
            "Epoch 114/300\n",
            "400/400 [==============================] - 17s 42ms/step - loss: 0.3397 - accuracy: 0.8884 - val_loss: 0.7792 - val_accuracy: 0.7489\n",
            "Epoch 115/300\n",
            "400/400 [==============================] - 17s 42ms/step - loss: 0.3372 - accuracy: 0.8907 - val_loss: 0.9717 - val_accuracy: 0.7096\n",
            "Epoch 116/300\n",
            "400/400 [==============================] - 17s 42ms/step - loss: 0.3342 - accuracy: 0.8916 - val_loss: 1.0435 - val_accuracy: 0.6844\n",
            "Epoch 117/300\n",
            "400/400 [==============================] - 17s 42ms/step - loss: 0.3304 - accuracy: 0.8928 - val_loss: 0.8525 - val_accuracy: 0.7263\n",
            "Epoch 118/300\n",
            "400/400 [==============================] - 17s 42ms/step - loss: 0.3251 - accuracy: 0.8952 - val_loss: 0.7928 - val_accuracy: 0.7497\n",
            "Epoch 119/300\n",
            "400/400 [==============================] - 17s 42ms/step - loss: 0.3237 - accuracy: 0.8947 - val_loss: 0.7342 - val_accuracy: 0.7576\n",
            "Epoch 120/300\n",
            "400/400 [==============================] - 17s 42ms/step - loss: 0.3207 - accuracy: 0.8969 - val_loss: 0.7487 - val_accuracy: 0.7575\n",
            "Epoch 121/300\n",
            "400/400 [==============================] - 17s 42ms/step - loss: 0.3157 - accuracy: 0.8977 - val_loss: 0.8466 - val_accuracy: 0.7368\n",
            "Epoch 122/300\n",
            "400/400 [==============================] - 17s 42ms/step - loss: 0.3142 - accuracy: 0.8996 - val_loss: 0.8601 - val_accuracy: 0.7297\n",
            "Epoch 123/300\n",
            "400/400 [==============================] - 17s 42ms/step - loss: 0.3090 - accuracy: 0.9004 - val_loss: 0.7168 - val_accuracy: 0.7622\n",
            "Epoch 124/300\n",
            "400/400 [==============================] - 17s 42ms/step - loss: 0.3059 - accuracy: 0.9014 - val_loss: 0.9630 - val_accuracy: 0.7043\n",
            "Epoch 125/300\n",
            "400/400 [==============================] - 17s 42ms/step - loss: 0.3030 - accuracy: 0.9027 - val_loss: 0.8931 - val_accuracy: 0.7240\n",
            "Epoch 126/300\n",
            "400/400 [==============================] - 17s 42ms/step - loss: 0.2986 - accuracy: 0.9041 - val_loss: 0.8453 - val_accuracy: 0.7388\n",
            "Epoch 127/300\n",
            "400/400 [==============================] - 17s 42ms/step - loss: 0.2983 - accuracy: 0.9044 - val_loss: 0.9272 - val_accuracy: 0.7134\n",
            "Epoch 128/300\n",
            "400/400 [==============================] - 17s 42ms/step - loss: 0.2925 - accuracy: 0.9071 - val_loss: 0.7429 - val_accuracy: 0.7573\n",
            "Epoch 129/300\n",
            "400/400 [==============================] - 17s 42ms/step - loss: 0.2914 - accuracy: 0.9079 - val_loss: 1.1325 - val_accuracy: 0.6654\n",
            "Epoch 130/300\n",
            "400/400 [==============================] - 17s 42ms/step - loss: 0.2875 - accuracy: 0.9087 - val_loss: 0.8090 - val_accuracy: 0.7456\n",
            "Epoch 131/300\n",
            "400/400 [==============================] - 17s 42ms/step - loss: 0.2843 - accuracy: 0.9097 - val_loss: 0.7810 - val_accuracy: 0.7479\n",
            "Epoch 132/300\n",
            "400/400 [==============================] - 17s 42ms/step - loss: 0.2818 - accuracy: 0.9108 - val_loss: 1.0859 - val_accuracy: 0.6904\n",
            "Epoch 133/300\n",
            "400/400 [==============================] - 17s 42ms/step - loss: 0.2768 - accuracy: 0.9130 - val_loss: 0.7640 - val_accuracy: 0.7547\n",
            "Epoch 134/300\n",
            "400/400 [==============================] - 17s 42ms/step - loss: 0.2762 - accuracy: 0.9131 - val_loss: 0.7995 - val_accuracy: 0.7435\n",
            "Epoch 135/300\n",
            "400/400 [==============================] - 17s 42ms/step - loss: 0.2724 - accuracy: 0.9143 - val_loss: 0.8173 - val_accuracy: 0.7450\n",
            "Epoch 136/300\n",
            "400/400 [==============================] - 17s 42ms/step - loss: 0.2705 - accuracy: 0.9153 - val_loss: 0.8872 - val_accuracy: 0.7273\n",
            "Epoch 137/300\n",
            "400/400 [==============================] - 17s 42ms/step - loss: 0.2657 - accuracy: 0.9171 - val_loss: 0.8364 - val_accuracy: 0.7430\n",
            "Epoch 138/300\n",
            "400/400 [==============================] - 17s 42ms/step - loss: 0.2631 - accuracy: 0.9172 - val_loss: 0.8161 - val_accuracy: 0.7487\n",
            "Epoch 139/300\n",
            "400/400 [==============================] - 17s 42ms/step - loss: 0.2607 - accuracy: 0.9192 - val_loss: 0.9634 - val_accuracy: 0.7107\n",
            "Epoch 140/300\n",
            "400/400 [==============================] - 17s 42ms/step - loss: 0.2572 - accuracy: 0.9209 - val_loss: 0.8126 - val_accuracy: 0.7428\n",
            "Epoch 141/300\n",
            "400/400 [==============================] - 17s 42ms/step - loss: 0.2565 - accuracy: 0.9205 - val_loss: 0.7993 - val_accuracy: 0.7524\n",
            "Epoch 142/300\n",
            "400/400 [==============================] - 17s 42ms/step - loss: 0.2524 - accuracy: 0.9212 - val_loss: 0.7771 - val_accuracy: 0.7492\n",
            "Epoch 143/300\n",
            "400/400 [==============================] - 17s 42ms/step - loss: 0.2497 - accuracy: 0.9231 - val_loss: 0.9119 - val_accuracy: 0.7253\n",
            "Epoch 144/300\n",
            "400/400 [==============================] - 17s 42ms/step - loss: 0.2462 - accuracy: 0.9245 - val_loss: 0.9030 - val_accuracy: 0.7176\n",
            "Epoch 145/300\n",
            "400/400 [==============================] - 17s 42ms/step - loss: 0.2434 - accuracy: 0.9253 - val_loss: 0.8957 - val_accuracy: 0.7272\n",
            "Epoch 146/300\n",
            "400/400 [==============================] - 17s 42ms/step - loss: 0.2402 - accuracy: 0.9258 - val_loss: 0.7837 - val_accuracy: 0.7623\n",
            "Epoch 147/300\n",
            "400/400 [==============================] - 17s 42ms/step - loss: 0.2386 - accuracy: 0.9278 - val_loss: 0.8086 - val_accuracy: 0.7430\n",
            "Epoch 148/300\n"
          ]
        },
        {
          "output_type": "stream",
          "name": "stderr",
          "text": [
            "WARNING:tensorflow:Your input ran out of data; interrupting training. Make sure that your dataset or generator can generate at least `steps_per_epoch * epochs` batches (in this case, 120000 batches). You may need to use the repeat() function when building your dataset.\n"
          ]
        },
        {
          "output_type": "stream",
          "name": "stdout",
          "text": [
            "\r400/400 [==============================] - 1s 2ms/step - loss: 0.2386 - accuracy: 0.9278 - val_loss: 0.8086 - val_accuracy: 0.7430\n"
          ]
        },
        {
          "output_type": "stream",
          "name": "stderr",
          "text": [
            "WARNING:absl:Found untraced functions such as _jit_compiled_convolution_op, _jit_compiled_convolution_op, _jit_compiled_convolution_op, _jit_compiled_convolution_op, _jit_compiled_convolution_op while saving (showing 5 of 8). These functions will not be directly callable after loading.\n"
          ]
        }
      ],
      "source": [
        "lrs = [ 0.005]\n",
        "\n",
        "for learning_rate in lrs:\n",
        "  opt = SGD(learning_rate = learning_rate)\n",
        "  model = create_model()\n",
        "  model.compile(loss=\"categorical_crossentropy\", optimizer=opt, metrics=[\"accuracy\"])\n",
        "  history = model.fit(x_train, y_train, batch_size=batch_size, validation_data=(x_test, y_test), steps_per_epoch = steps_per_epoch, epochs=epochs, verbose=1, callbacks=my_callbacks, shuffle = True)\n",
        "  with open(f'history-lr-{learning_rate}.pkl', 'wb') as config_dictionary_file:\n",
        "    pickle.dump(history, config_dictionary_file)\n"
      ],
      "id": "H0tVAZEHVLuc"
    },
    {
      "cell_type": "code",
      "execution_count": null,
      "metadata": {
        "id": "bDgWp-mTHOV4"
      },
      "outputs": [],
      "source": [
        "lrs = [0.005]\n",
        "history_result={}\n",
        "for learning_rate in lrs:\n",
        "  file_name = f'history-lr-{learning_rate}.pkl'\n",
        "  with open(file_name, \"rb\") as input_file:\n",
        "    history_result[file_name] = pickle.load(input_file)\n"
      ],
      "id": "bDgWp-mTHOV4"
    },
    {
      "cell_type": "code",
      "execution_count": null,
      "metadata": {
        "id": "jy9cvVw7JCl1",
        "colab": {
          "base_uri": "https://localhost:8080/",
          "height": 282
        },
        "outputId": "046dc938-c5cc-4902-c7fe-a3ccceac7bc7"
      },
      "outputs": [
        {
          "output_type": "execute_result",
          "data": {
            "text/plain": [
              "<matplotlib.legend.Legend at 0x7f585e381970>"
            ]
          },
          "metadata": {},
          "execution_count": 21
        },
        {
          "output_type": "display_data",
          "data": {
            "text/plain": [
              "<Figure size 432x288 with 1 Axes>"
            ],
            "image/png": "[encoded data removed]"
          },
          "metadata": {
            "needs_background": "light"
          }
        }
      ],
      "source": [
        "handle = []\n",
        "for file_name in history_result.keys():\n",
        "  y = history_result[file_name].history['val_loss']\n",
        "  plt.plot(y, label = file_name)\n",
        "\n",
        "plt.legend()\n",
        "\n"
      ],
      "id": "jy9cvVw7JCl1"
    },
    {
      "cell_type": "code",
      "execution_count": null,
      "metadata": {
        "id": "cZL-X9WBOQTw",
        "colab": {
          "base_uri": "https://localhost:8080/",
          "height": 282
        },
        "outputId": "64608f39-e2ca-4bc6-aea8-4c27dab1750d"
      },
      "outputs": [
        {
          "output_type": "execute_result",
          "data": {
            "text/plain": [
              "<matplotlib.legend.Legend at 0x7f585e27d550>"
            ]
          },
          "metadata": {},
          "execution_count": 22
        },
        {
          "output_type": "display_data",
          "data": {
            "text/plain": [
              "<Figure size 432x288 with 1 Axes>"
            ],
            "image/png": "[encoded data removed]"
          },
          "metadata": {
            "needs_background": "light"
          }
        }
      ],
      "source": [
        "handle = []\n",
        "for file_name in history_result.keys():\n",
        "  y = history_result[file_name].history['val_accuracy']\n",
        "  plt.plot(y, label = file_name)\n",
        "\n",
        "plt.legend()\n",
        "\n"
      ],
      "id": "cZL-X9WBOQTw"
    },
    {
      "cell_type": "code",
      "execution_count": null,
      "metadata": {
        "id": "4C7f0_11HmN8"
      },
      "outputs": [],
      "source": [
        "history_result[f'history-lr-{learning_rate}'].history['loss']"
      ],
      "id": "4C7f0_11HmN8"
    },
    {
      "cell_type": "code",
      "execution_count": null,
      "metadata": {
        "id": "55a646f8"
      },
      "outputs": [],
      "source": [
        "\n",
        "plt.plot(history.history['loss'], label='train')\n",
        "#plt.plot(history.history['val_loss'], label='test')\n",
        "# plt.title('lrate='+str(learning_rate), pad=-50)\n",
        "plt.legend()\n",
        "# show learning curves\n",
        "plt.show()"
      ],
      "id": "55a646f8"
    },
    {
      "cell_type": "code",
      "execution_count": null,
      "metadata": {
        "id": "dc358e3c"
      },
      "outputs": [],
      "source": [
        "plt.plot(history.history['accuracy'], label='train')\n",
        "#plt.plot(history.history['val_accuracy'], label='test')\n",
        "# plt.title('lrate='+str(learning_rate), pad=-50)\n",
        "plt.legend()\n",
        "# show learning curves\n",
        "plt.show()"
      ],
      "id": "dc358e3c"
    },
    {
      "cell_type": "code",
      "execution_count": null,
      "metadata": {
        "id": "9e38cc7f"
      },
      "outputs": [],
      "source": [
        "history.history.keys()"
      ],
      "id": "9e38cc7f"
    },
    {
      "cell_type": "code",
      "execution_count": null,
      "metadata": {
        "id": "Q9XOqeV-8Lau"
      },
      "outputs": [],
      "source": [
        "yhat = model.predict(x_test)\n",
        "results = model.evaluate(x_test, y_test, batch_size=128)"
      ],
      "id": "Q9XOqeV-8Lau"
    },
    {
      "cell_type": "code",
      "execution_count": null,
      "metadata": {
        "id": "qPzDofUS03Cf"
      },
      "outputs": [],
      "source": [],
      "id": "qPzDofUS03Cf"
    }
  ],
  "metadata": {
    "accelerator": "GPU",
    "colab": {
      "provenance": [],
      "include_colab_link": true
    },
    "gpuClass": "standard",
    "kernelspec": {
      "display_name": "Python 3 (ipykernel)",
      "language": "python",
      "name": "python3"
    },
    "language_info": {
      "codemirror_mode": {
        "name": "ipython",
        "version": 3
      },
      "file_extension": ".py",
      "mimetype": "text/x-python",
      "name": "python",
      "nbconvert_exporter": "python",
      "pygments_lexer": "ipython3",
      "version": "3.8.0"
    }
  },
  "nbformat": 4,
  "nbformat_minor": 5
}