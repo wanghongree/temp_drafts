{
  "cells": [
    {
      "cell_type": "markdown",
      "metadata": {
        "id": "view-in-github",
        "colab_type": "text"
      },
      "source": [
        "<a href=\"https://colab.research.google.com/github/wanghongree/temp_drafts/blob/main/calibrate_CIFAR10_pre_check_copy.ipynb\" target=\"_parent\"><img src=\"https://colab.research.google.com/assets/colab-badge.svg\" alt=\"Open In Colab\"/></a>"
      ]
    },
    {
      "cell_type": "code",
      "execution_count": 24,
      "metadata": {
        "id": "dgWpJft4yFA7"
      },
      "outputs": [],
      "source": [
        "# Load the TensorBoard notebook extension\n",
        "%load_ext tensorboard"
      ],
      "id": "dgWpJft4yFA7"
    },
    {
      "cell_type": "code",
      "execution_count": 71,
      "metadata": {
        "id": "6e1e7956",
        "scrolled": true
      },
      "outputs": [],
      "source": [
        "import numpy as np\n",
        "from tensorflow import keras\n",
        "from tensorflow.keras import layers\n",
        "import matplotlib.pyplot as plt\n",
        "from tensorflow.keras.optimizers import Adam, SGD\n",
        "import tensorflow as tf\n",
        "import os\n",
        "import shutil\n",
        "import cv2\n",
        "from google.colab.patches import cv2_imshow\n",
        "import pandas as pd"
      ],
      "id": "6e1e7956"
    },
    {
      "cell_type": "code",
      "execution_count": 26,
      "metadata": {
        "id": "0uPTaqyG5bZz"
      },
      "outputs": [],
      "source": [
        "from sklearn.model_selection import train_test_split"
      ],
      "id": "0uPTaqyG5bZz"
    },
    {
      "cell_type": "code",
      "execution_count": 27,
      "metadata": {
        "colab": {
          "base_uri": "https://localhost:8080/"
        },
        "id": "bee5964e",
        "outputId": "37ba9263-8a1f-4e43-deaa-57c58ed16cfd"
      },
      "outputs": [
        {
          "output_type": "stream",
          "name": "stdout",
          "text": [
            "Num GPUs Available:  1\n"
          ]
        }
      ],
      "source": [
        "import tensorflow as tf\n",
        "print(\"Num GPUs Available: \", len(tf.config.list_physical_devices('GPU')))"
      ],
      "id": "bee5964e"
    },
    {
      "cell_type": "code",
      "execution_count": 28,
      "metadata": {
        "id": "88e06ab3"
      },
      "outputs": [],
      "source": [
        "if os.path.exists('logs'):\n",
        "    shutil.rmtree('logs')\n",
        "os.mkdir('logs')\n",
        "\n",
        "if os.path.exists('saved_model'):\n",
        "    shutil.rmtree('saved_model')\n",
        "os.mkdir('saved_model')"
      ],
      "id": "88e06ab3"
    },
    {
      "cell_type": "code",
      "execution_count": 29,
      "metadata": {
        "id": "df31d8c1"
      },
      "outputs": [],
      "source": [
        "# Model / data parameters\n",
        "num_classes = 10\n",
        "input_shape = (32, 32, 3)\n",
        "\n",
        "# Load the data and split it between train and test sets\n",
        "(x_train, y_train), (x_test, y_test) = keras.datasets.cifar10.load_data()\n",
        "# Scale images to the [0, 1] range\n",
        "x_train = x_train.astype(\"float32\") / 255\n",
        "x_test = x_test.astype(\"float32\") / 255"
      ],
      "id": "df31d8c1"
    },
    {
      "cell_type": "code",
      "source": [
        "img = x_train[6] *255\n",
        "cv2_imshow(img)"
      ],
      "metadata": {
        "colab": {
          "base_uri": "https://localhost:8080/",
          "height": 49
        },
        "id": "Qd_93GkXR8_X",
        "outputId": "d8425e0a-ad41-43d2-abb3-c436b539255f"
      },
      "id": "Qd_93GkXR8_X",
      "execution_count": 30,
      "outputs": [
        {
          "output_type": "display_data",
          "data": {
            "text/plain": [
              "<PIL.Image.Image image mode=RGB size=32x32 at 0x7FE5C5420040>"
            ],
            "image/png": "[encoded data removed]"
          },
          "metadata": {}
        }
      ]
    },
    {
      "cell_type": "code",
      "execution_count": 31,
      "metadata": {
        "colab": {
          "base_uri": "https://localhost:8080/"
        },
        "id": "f61fcd3c",
        "outputId": "9dbfbbaa-b0ff-4551-b593-9f1e652ad9e0"
      },
      "outputs": [
        {
          "output_type": "stream",
          "name": "stdout",
          "text": [
            "x_train shape: (50000, 32, 32, 3)\n",
            "50000 train samples\n",
            "10000 test samples\n"
          ]
        }
      ],
      "source": [
        "# Make sure images have shape (32, 32, 1)\n",
        "print(\"x_train shape:\", x_train.shape)\n",
        "print(x_train.shape[0], \"train samples\")\n",
        "print(x_test.shape[0], \"test samples\")\n",
        "\n",
        "# convert class vectors to binary class matrices\n",
        "y_train = keras.utils.to_categorical(y_train, num_classes)\n",
        "y_test = keras.utils.to_categorical(y_test, num_classes)"
      ],
      "id": "f61fcd3c"
    },
    {
      "cell_type": "raw",
      "metadata": {
        "id": "82d459e2"
      },
      "source": [
        "my_callbacks = [\n",
        "    #tf.keras.callbacks.EarlyStopping(patience=2),\n",
        "    tf.keras.callbacks.ModelCheckpoint(filepath='./saved_model/model.{epoch:02d}-{val_loss:.2f}.h5', period = 10),\n",
        "    tf.keras.callbacks.TensorBoard(log_dir='./logs',\n",
        "                         histogram_freq=1,\n",
        "                         write_graph=True,\n",
        "                         write_images=True,\n",
        "                         update_freq='epoch',\n",
        "                         profile_batch=2,\n",
        "                         embeddings_freq=1)\n",
        "]\n"
      ],
      "id": "82d459e2"
    },
    {
      "cell_type": "code",
      "execution_count": 32,
      "metadata": {
        "id": "jc49ef-pxZfn"
      },
      "outputs": [],
      "source": [
        "batch_end_loss = list()\n",
        "\n",
        "class SaveBatchLoss(tf.keras.callbacks.Callback):\n",
        "    def on_train_batch_end(self, batch, logs=None):\n",
        "        batch_end_loss.append(logs['loss'])\n"
      ],
      "id": "jc49ef-pxZfn"
    },
    {
      "cell_type": "code",
      "execution_count": 33,
      "metadata": {
        "id": "11fa5aad"
      },
      "outputs": [],
      "source": [
        "my_callbacks = [tf.keras.callbacks.ModelCheckpoint(filepath='./saved_model/model.{epoch:02d}-{val_loss:.2f}.h5', save_best_only=True), \n",
        "                #SaveBatchLoss()\n",
        "                ]"
      ],
      "id": "11fa5aad"
    },
    {
      "cell_type": "code",
      "execution_count": 34,
      "metadata": {
        "id": "1ce05db7"
      },
      "outputs": [],
      "source": [
        "batch_size = 256\n",
        "steps_per_epoch = 400\n",
        "learning_rate = 1\n",
        "epochs = 70\n"
      ],
      "id": "1ce05db7"
    },
    {
      "cell_type": "code",
      "execution_count": 35,
      "metadata": {
        "id": "851080b0"
      },
      "outputs": [],
      "source": [
        "model_name = 'model222'"
      ],
      "id": "851080b0"
    },
    {
      "cell_type": "code",
      "execution_count": 36,
      "metadata": {
        "id": "b6s3zt72bGrp"
      },
      "outputs": [],
      "source": [
        "kr=None\n",
        "br=None"
      ],
      "id": "b6s3zt72bGrp"
    },
    {
      "cell_type": "code",
      "execution_count": 37,
      "metadata": {
        "id": "f7e3c8d1"
      },
      "outputs": [],
      "source": [
        "def create_model():\n",
        "  inputs = keras.Input(shape=input_shape)\n",
        "  short_cut1 = layers.Conv2D(32, kernel_size=(3, 3), padding = 'same', kernel_regularizer = kr, bias_regularizer = br)(inputs)\n",
        "  short_cut1 = layers.BatchNormalization()(short_cut1)\n",
        "  x = layers.Conv2D(32, kernel_size=(3, 3), padding = 'same', kernel_regularizer = kr, bias_regularizer = br)(inputs)\n",
        "  x = layers.BatchNormalization()(x)\n",
        "  x = layers.ReLU()(x)\n",
        "  x = layers.Conv2D(32, kernel_size=(3, 3), padding = 'same', kernel_regularizer = kr, bias_regularizer = br)(x)\n",
        "  x = layers.BatchNormalization()(x)\n",
        "  x = layers.ReLU()(x)\n",
        "  x = layers.Conv2D(32, kernel_size=(3, 3), padding = 'same', kernel_regularizer = kr, bias_regularizer = br)(x)\n",
        "  x = layers.BatchNormalization()(x)\n",
        "  x = layers.Add()([short_cut1, x])\n",
        "  x = layers.ReLU()(x)\n",
        "  x = layers.MaxPooling2D(pool_size=(2, 2))(x)\n",
        "  short_cut2 = layers.Conv2D(64, kernel_size=(3, 3), padding = 'same', kernel_regularizer = kr, bias_regularizer = br)(x)\n",
        "  short_cut2 = layers.BatchNormalization()(short_cut2)\n",
        "  x = layers.Conv2D(64, kernel_size=(3, 3), padding = 'same', kernel_regularizer = kr, bias_regularizer = br)(x)\n",
        "  x = layers.BatchNormalization()(x)\n",
        "  x = layers.ReLU()(x)\n",
        "  x = layers.Conv2D(64, kernel_size=(3, 3), padding = 'same', kernel_regularizer = kr, bias_regularizer = br)(x)\n",
        "  x = layers.BatchNormalization()(x)  \n",
        "  x = layers.ReLU()(x)\n",
        "  x = layers.Conv2D(64, kernel_size=(3, 3), padding = 'same', kernel_regularizer = kr, bias_regularizer = br)(x)\n",
        "  x = layers.BatchNormalization()(x)\n",
        "  x = layers.Add()([short_cut2, x])\n",
        "  x = layers.ReLU()(x)\n",
        "  x = layers.GlobalAveragePooling2D()(x)\n",
        "  x = layers.Flatten()(x)\n",
        "  # x = layers.Dropout(0.5)(x)\n",
        "  x = layers.Dense(num_classes, activation=\"softmax\", kernel_regularizer = kr, bias_regularizer = br)(x)\n",
        "  model =  tf.keras.Model(inputs, x, name=model_name)\n",
        "  return model"
      ],
      "id": "f7e3c8d1"
    },
    {
      "cell_type": "code",
      "execution_count": 38,
      "metadata": {
        "id": "334143a6"
      },
      "outputs": [],
      "source": [
        "# model.count_params()"
      ],
      "id": "334143a6"
    },
    {
      "cell_type": "code",
      "execution_count": 39,
      "metadata": {
        "id": "X6nPgb9t50_9"
      },
      "outputs": [],
      "source": [
        "# x_tra, x_val, y_tra, y_val = train_test_split(x_train, y_train, test_size=0.2)"
      ],
      "id": "X6nPgb9t50_9"
    },
    {
      "cell_type": "code",
      "execution_count": 40,
      "metadata": {
        "id": "dQwS48CcVYxz"
      },
      "outputs": [],
      "source": [
        "import pickle"
      ],
      "id": "dQwS48CcVYxz"
    },
    {
      "cell_type": "code",
      "execution_count": 41,
      "metadata": {
        "colab": {
          "base_uri": "https://localhost:8080/"
        },
        "id": "H0tVAZEHVLuc",
        "outputId": "c9c96192-3828-4a35-8694-5e71eac21bfd"
      },
      "outputs": [
        {
          "output_type": "stream",
          "name": "stdout",
          "text": [
            "Epoch 1/70\n",
            "400/400 [==============================] - 26s 42ms/step - loss: 1.3921 - accuracy: 0.4880 - val_loss: 1.6342 - val_accuracy: 0.4518\n",
            "Epoch 2/70\n",
            "400/400 [==============================] - 16s 41ms/step - loss: 0.8714 - accuracy: 0.6869 - val_loss: 1.0173 - val_accuracy: 0.6506\n",
            "Epoch 3/70\n",
            "400/400 [==============================] - 17s 41ms/step - loss: 0.6700 - accuracy: 0.7632 - val_loss: 0.8195 - val_accuracy: 0.7202\n",
            "Epoch 4/70\n",
            "400/400 [==============================] - 16s 41ms/step - loss: 0.5492 - accuracy: 0.8075 - val_loss: 0.8146 - val_accuracy: 0.7192\n",
            "Epoch 5/70\n",
            "400/400 [==============================] - 16s 41ms/step - loss: 0.4709 - accuracy: 0.8354 - val_loss: 0.9924 - val_accuracy: 0.6619\n",
            "Epoch 6/70\n",
            "400/400 [==============================] - 17s 41ms/step - loss: 0.4064 - accuracy: 0.8574 - val_loss: 1.0115 - val_accuracy: 0.7154\n",
            "Epoch 7/70\n",
            "400/400 [==============================] - 17s 42ms/step - loss: 0.3638 - accuracy: 0.8727 - val_loss: 0.9651 - val_accuracy: 0.7091\n",
            "Epoch 8/70\n",
            "400/400 [==============================] - 17s 42ms/step - loss: 0.3214 - accuracy: 0.8880 - val_loss: 0.6279 - val_accuracy: 0.7890\n",
            "Epoch 9/70\n",
            "400/400 [==============================] - 17s 42ms/step - loss: 0.2816 - accuracy: 0.9006 - val_loss: 0.7504 - val_accuracy: 0.7780\n",
            "Epoch 10/70\n",
            "400/400 [==============================] - 17s 42ms/step - loss: 0.2476 - accuracy: 0.9123 - val_loss: 1.0463 - val_accuracy: 0.7206\n",
            "Epoch 11/70\n",
            "400/400 [==============================] - 17s 42ms/step - loss: 0.2225 - accuracy: 0.9206 - val_loss: 0.8470 - val_accuracy: 0.7711\n",
            "Epoch 12/70\n",
            "400/400 [==============================] - 17s 42ms/step - loss: 0.1967 - accuracy: 0.9301 - val_loss: 0.8315 - val_accuracy: 0.7819\n",
            "Epoch 13/70\n",
            "400/400 [==============================] - 17s 42ms/step - loss: 0.1755 - accuracy: 0.9384 - val_loss: 0.9776 - val_accuracy: 0.7550\n",
            "Epoch 14/70\n",
            "400/400 [==============================] - 17s 42ms/step - loss: 0.1550 - accuracy: 0.9460 - val_loss: 0.7680 - val_accuracy: 0.7898\n",
            "Epoch 15/70\n",
            "400/400 [==============================] - 17s 42ms/step - loss: 0.1250 - accuracy: 0.9557 - val_loss: 1.0777 - val_accuracy: 0.7452\n",
            "Epoch 16/70\n",
            "400/400 [==============================] - 17s 42ms/step - loss: 0.1144 - accuracy: 0.9603 - val_loss: 1.1636 - val_accuracy: 0.7432\n",
            "Epoch 17/70\n",
            "400/400 [==============================] - 17s 42ms/step - loss: 0.0992 - accuracy: 0.9655 - val_loss: 0.8633 - val_accuracy: 0.7879\n",
            "Epoch 18/70\n",
            "400/400 [==============================] - 17s 42ms/step - loss: 0.0849 - accuracy: 0.9704 - val_loss: 1.2454 - val_accuracy: 0.7592\n",
            "Epoch 19/70\n",
            "400/400 [==============================] - 17s 42ms/step - loss: 0.0759 - accuracy: 0.9745 - val_loss: 1.8168 - val_accuracy: 0.6990\n",
            "Epoch 20/70\n",
            "400/400 [==============================] - 17s 42ms/step - loss: 0.0669 - accuracy: 0.9778 - val_loss: 1.1022 - val_accuracy: 0.7910\n",
            "Epoch 21/70\n",
            "400/400 [==============================] - 17s 42ms/step - loss: 0.0521 - accuracy: 0.9830 - val_loss: 1.1723 - val_accuracy: 0.7717\n",
            "Epoch 22/70\n",
            "400/400 [==============================] - 17s 42ms/step - loss: 0.0350 - accuracy: 0.9895 - val_loss: 1.2448 - val_accuracy: 0.7761\n",
            "Epoch 23/70\n",
            "400/400 [==============================] - 17s 42ms/step - loss: 0.0241 - accuracy: 0.9937 - val_loss: 0.9598 - val_accuracy: 0.8156\n",
            "Epoch 24/70\n",
            "400/400 [==============================] - 17s 42ms/step - loss: 0.0617 - accuracy: 0.9786 - val_loss: 3.2752 - val_accuracy: 0.6442\n",
            "Epoch 25/70\n",
            "400/400 [==============================] - 17s 42ms/step - loss: 0.0584 - accuracy: 0.9812 - val_loss: 0.9638 - val_accuracy: 0.8173\n",
            "Epoch 26/70\n",
            "400/400 [==============================] - 17s 42ms/step - loss: 0.0095 - accuracy: 0.9988 - val_loss: 0.9197 - val_accuracy: 0.8253\n",
            "Epoch 27/70\n",
            "400/400 [==============================] - 17s 42ms/step - loss: 0.0040 - accuracy: 1.0000 - val_loss: 0.8403 - val_accuracy: 0.8376\n",
            "Epoch 28/70\n",
            "400/400 [==============================] - 17s 42ms/step - loss: 0.0023 - accuracy: 1.0000 - val_loss: 0.8638 - val_accuracy: 0.8397\n",
            "Epoch 29/70\n",
            "400/400 [==============================] - 17s 42ms/step - loss: 0.0018 - accuracy: 1.0000 - val_loss: 0.8965 - val_accuracy: 0.8403\n",
            "Epoch 30/70\n",
            "400/400 [==============================] - 17s 42ms/step - loss: 0.0015 - accuracy: 1.0000 - val_loss: 0.9227 - val_accuracy: 0.8375\n",
            "Epoch 31/70\n",
            "400/400 [==============================] - 17s 42ms/step - loss: 0.0013 - accuracy: 1.0000 - val_loss: 0.9157 - val_accuracy: 0.8422\n",
            "Epoch 32/70\n",
            "400/400 [==============================] - 17s 42ms/step - loss: 0.0011 - accuracy: 1.0000 - val_loss: 0.9247 - val_accuracy: 0.8393\n",
            "Epoch 33/70\n",
            "400/400 [==============================] - 17s 42ms/step - loss: 0.0011 - accuracy: 1.0000 - val_loss: 0.9427 - val_accuracy: 0.8392\n",
            "Epoch 34/70\n",
            "400/400 [==============================] - 17s 42ms/step - loss: 9.7784e-04 - accuracy: 1.0000 - val_loss: 0.9659 - val_accuracy: 0.8390\n",
            "Epoch 35/70\n",
            "119/400 [=======>......................] - ETA: 11s - loss: 8.8422e-04 - accuracy: 1.0000"
          ]
        },
        {
          "output_type": "stream",
          "name": "stderr",
          "text": [
            "WARNING:tensorflow:Your input ran out of data; interrupting training. Make sure that your dataset or generator can generate at least `steps_per_epoch * epochs` batches (in this case, 28000 batches). You may need to use the repeat() function when building your dataset.\n"
          ]
        },
        {
          "output_type": "stream",
          "name": "stdout",
          "text": [
            "\b\b\b\b\b\b\b\b\b\b\b\b\b\b\b\b\b\b\b\b\b\b\b\b\b\b\b\b\b\b\b\b\b\b\b\b\b\b\b\b\b\b\b\b\b\b\b\b\b\b\b\b\b\b\b\b\b\b\b\b\b\b\b\b\b\b\b\b\b\b\b\b\b\b\b\b\b\b\b\b\b\b\b\b\b\b\b\b\b\r400/400 [==============================] - 5s 13ms/step - loss: 8.8387e-04 - accuracy: 1.0000 - val_loss: 0.9557 - val_accuracy: 0.8419\n"
          ]
        },
        {
          "output_type": "stream",
          "name": "stderr",
          "text": [
            "WARNING:absl:Found untraced functions such as _jit_compiled_convolution_op, _jit_compiled_convolution_op, _jit_compiled_convolution_op, _jit_compiled_convolution_op, _jit_compiled_convolution_op while saving (showing 5 of 8). These functions will not be directly callable after loading.\n"
          ]
        }
      ],
      "source": [
        "opt = SGD(learning_rate = learning_rate)\n",
        "model = create_model()\n",
        "model.compile(loss=\"categorical_crossentropy\", optimizer=opt, metrics=[\"accuracy\"])\n",
        "history = model.fit(x_train, y_train, batch_size=batch_size, validation_data=(x_test, y_test), steps_per_epoch = steps_per_epoch, epochs=epochs, verbose=1, callbacks=my_callbacks, shuffle = True)\n",
        "with open(f'history-lr-{learning_rate}.pkl', 'wb') as config_dictionary_file:\n",
        "  pickle.dump(history, config_dictionary_file)\n"
      ],
      "id": "H0tVAZEHVLuc"
    },
    {
      "cell_type": "code",
      "source": [
        "y_test"
      ],
      "metadata": {
        "colab": {
          "base_uri": "https://localhost:8080/"
        },
        "id": "67e30OJYZZ7O",
        "outputId": "133b643e-7182-437e-8bf2-0603e3996f5c"
      },
      "id": "67e30OJYZZ7O",
      "execution_count": 49,
      "outputs": [
        {
          "output_type": "execute_result",
          "data": {
            "text/plain": [
              "array([[0., 0., 0., ..., 0., 0., 0.],\n",
              "       [0., 0., 0., ..., 0., 1., 0.],\n",
              "       [0., 0., 0., ..., 0., 1., 0.],\n",
              "       ...,\n",
              "       [0., 0., 0., ..., 0., 0., 0.],\n",
              "       [0., 1., 0., ..., 0., 0., 0.],\n",
              "       [0., 0., 0., ..., 1., 0., 0.]], dtype=float32)"
            ]
          },
          "metadata": {},
          "execution_count": 49
        }
      ]
    },
    {
      "cell_type": "code",
      "execution_count": 48,
      "metadata": {
        "id": "4C7f0_11HmN8"
      },
      "outputs": [],
      "source": [
        "# history_result[f'history-lr-{learning_rate}'].history['loss']"
      ],
      "id": "4C7f0_11HmN8"
    },
    {
      "cell_type": "code",
      "execution_count": 46,
      "metadata": {
        "id": "55a646f8",
        "colab": {
          "base_uri": "https://localhost:8080/",
          "height": 265
        },
        "outputId": "f7c88666-0940-4e30-e2d6-2b1c0d6618c6"
      },
      "outputs": [
        {
          "output_type": "display_data",
          "data": {
            "text/plain": [
              "<Figure size 432x288 with 1 Axes>"
            ],
            "image/png": "[encoded data removed]"
          },
          "metadata": {
            "needs_background": "light"
          }
        }
      ],
      "source": [
        "\n",
        "plt.plot(history.history['loss'], label='train')\n",
        "plt.plot(history.history['val_loss'], label='test')\n",
        "# plt.title('lrate='+str(learning_rate), pad=-50)\n",
        "plt.legend()\n",
        "# show learning curves\n",
        "plt.show()"
      ],
      "id": "55a646f8"
    },
    {
      "cell_type": "code",
      "execution_count": 47,
      "metadata": {
        "id": "dc358e3c",
        "colab": {
          "base_uri": "https://localhost:8080/",
          "height": 265
        },
        "outputId": "b40da485-d7ce-4c3c-ded1-a3cbf8ed39ec"
      },
      "outputs": [
        {
          "output_type": "display_data",
          "data": {
            "text/plain": [
              "<Figure size 432x288 with 1 Axes>"
            ],
            "image/png": "[encoded data removed]"
          },
          "metadata": {
            "needs_background": "light"
          }
        }
      ],
      "source": [
        "plt.plot(history.history['accuracy'], label='train')\n",
        "plt.plot(history.history['val_accuracy'], label='test')\n",
        "# plt.title('lrate='+str(learning_rate), pad=-50)\n",
        "plt.legend()\n",
        "# show learning curves\n",
        "plt.show()"
      ],
      "id": "dc358e3c"
    },
    {
      "cell_type": "code",
      "execution_count": 60,
      "metadata": {
        "id": "9e38cc7f",
        "colab": {
          "base_uri": "https://localhost:8080/"
        },
        "outputId": "7f0c75fb-786a-4224-f337-85785075a664"
      },
      "outputs": [
        {
          "output_type": "execute_result",
          "data": {
            "text/plain": [
              "dict_keys(['loss', 'accuracy', 'val_loss', 'val_accuracy'])"
            ]
          },
          "metadata": {},
          "execution_count": 60
        }
      ],
      "source": [
        "history.history.keys()"
      ],
      "id": "9e38cc7f"
    },
    {
      "cell_type": "code",
      "execution_count": 50,
      "metadata": {
        "id": "Q9XOqeV-8Lau",
        "colab": {
          "base_uri": "https://localhost:8080/"
        },
        "outputId": "eb60e25e-ea36-4108-b9e3-2ad5d0229f4a"
      },
      "outputs": [
        {
          "output_type": "stream",
          "name": "stdout",
          "text": [
            "313/313 [==============================] - 2s 3ms/step\n",
            "79/79 [==============================] - 1s 8ms/step - loss: 0.9557 - accuracy: 0.8419\n"
          ]
        }
      ],
      "source": [
        "yhat = model.predict(x_test)\n",
        "results = model.evaluate(x_test, y_test, batch_size=128)"
      ],
      "id": "Q9XOqeV-8Lau"
    },
    {
      "cell_type": "code",
      "source": [
        "yhat = model.predict(x_test)\n",
        "y_predicted = np.argmax(yhat, axis = 1)\n",
        "y_true = np.argmax(y_test, axis=1)\n",
        "test_result = pd.DataFrame({'predicted': y_predicted, 'true':y_true})\n",
        "test_result['correct'] = (test_result['predicted'] == test_result['true'])\n",
        "summary = test_result.groupby(['true'])['correct'].agg(correct = 'sum', total = 'count')\n",
        "summary['correction_rate'] = summary['correct'] / summary['total'] * 100\n"
      ],
      "metadata": {
        "id": "9QVKIT0mbj9e"
      },
      "id": "9QVKIT0mbj9e",
      "execution_count": 67,
      "outputs": []
    },
    {
      "cell_type": "code",
      "source": [
        "summary"
      ],
      "metadata": {
        "colab": {
          "base_uri": "https://localhost:8080/",
          "height": 394
        },
        "id": "9goMZ3FRior8",
        "outputId": "57e6eb0d-be63-4aac-f535-3646ce6f8e11"
      },
      "id": "9goMZ3FRior8",
      "execution_count": 100,
      "outputs": [
        {
          "output_type": "execute_result",
          "data": {
            "text/plain": [
              "      correct  total  correction_rate\n",
              "true                                 \n",
              "0         879   1000             87.9\n",
              "1         917   1000             91.7\n",
              "2         735   1000             73.5\n",
              "3         713   1000             71.3\n",
              "4         829   1000             82.9\n",
              "5         768   1000             76.8\n",
              "6         886   1000             88.6\n",
              "7         863   1000             86.3\n",
              "8         911   1000             91.1\n",
              "9         918   1000             91.8"
            ],
            "text/html": [
              "\n",
              "  <div id=\"df-1bb69a9d-0756-4cd1-a428-488cad0430c6\">\n",
              "    <div class=\"colab-df-container\">\n",
              "      <div>\n",
              "<style scoped>\n",
              "    .dataframe tbody tr th:only-of-type {\n",
              "        vertical-align: middle;\n",
              "    }\n",
              "\n",
              "    .dataframe tbody tr th {\n",
              "        vertical-align: top;\n",
              "    }\n",
              "\n",
              "    .dataframe thead th {\n",
              "        text-align: right;\n",
              "    }\n",
              "</style>\n",
              "<table border=\"1\" class=\"dataframe\">\n",
              "  <thead>\n",
              "    <tr style=\"text-align: right;\">\n",
              "      <th></th>\n",
              "      <th>correct</th>\n",
              "      <th>total</th>\n",
              "      <th>correction_rate</th>\n",
              "    </tr>\n",
              "    <tr>\n",
              "      <th>true</th>\n",
              "      <th></th>\n",
              "      <th></th>\n",
              "      <th></th>\n",
              "    </tr>\n",
              "  </thead>\n",
              "  <tbody>\n",
              "    <tr>\n",
              "      <th>0</th>\n",
              "      <td>879</td>\n",
              "      <td>1000</td>\n",
              "      <td>87.9</td>\n",
              "    </tr>\n",
              "    <tr>\n",
              "      <th>1</th>\n",
              "      <td>917</td>\n",
              "      <td>1000</td>\n",
              "      <td>91.7</td>\n",
              "    </tr>\n",
              "    <tr>\n",
              "      <th>2</th>\n",
              "      <td>735</td>\n",
              "      <td>1000</td>\n",
              "      <td>73.5</td>\n",
              "    </tr>\n",
              "    <tr>\n",
              "      <th>3</th>\n",
              "      <td>713</td>\n",
              "      <td>1000</td>\n",
              "      <td>71.3</td>\n",
              "    </tr>\n",
              "    <tr>\n",
              "      <th>4</th>\n",
              "      <td>829</td>\n",
              "      <td>1000</td>\n",
              "      <td>82.9</td>\n",
              "    </tr>\n",
              "    <tr>\n",
              "      <th>5</th>\n",
              "      <td>768</td>\n",
              "      <td>1000</td>\n",
              "      <td>76.8</td>\n",
              "    </tr>\n",
              "    <tr>\n",
              "      <th>6</th>\n",
              "      <td>886</td>\n",
              "      <td>1000</td>\n",
              "      <td>88.6</td>\n",
              "    </tr>\n",
              "    <tr>\n",
              "      <th>7</th>\n",
              "      <td>863</td>\n",
              "      <td>1000</td>\n",
              "      <td>86.3</td>\n",
              "    </tr>\n",
              "    <tr>\n",
              "      <th>8</th>\n",
              "      <td>911</td>\n",
              "      <td>1000</td>\n",
              "      <td>91.1</td>\n",
              "    </tr>\n",
              "    <tr>\n",
              "      <th>9</th>\n",
              "      <td>918</td>\n",
              "      <td>1000</td>\n",
              "      <td>91.8</td>\n",
              "    </tr>\n",
              "  </tbody>\n",
              "</table>\n",
              "</div>\n",
              "      <button class=\"colab-df-convert\" onclick=\"convertToInteractive('df-1bb69a9d-0756-4cd1-a428-488cad0430c6')\"\n",
              "              title=\"Convert this dataframe to an interactive table.\"\n",
              "              style=\"display:none;\">\n",
              "        \n",
              "  <svg xmlns=\"http://www.w3.org/2000/svg\" height=\"24px\"viewBox=\"0 0 24 24\"\n",
              "       width=\"24px\">\n",
              "    <path d=\"M0 0h24v24H0V0z\" fill=\"none\"/>\n",
              "    <path d=\"M18.56 5.44l.94 2.06.94-2.06 2.06-.94-2.06-.94-.94-2.06-.94 2.06-2.06.94zm-11 1L8.5 8.5l.94-2.06 2.06-.94-2.06-.94L8.5 2.5l-.94 2.06-2.06.94zm10 10l.94 2.06.94-2.06 2.06-.94-2.06-.94-.94-2.06-.94 2.06-2.06.94z\"/><path d=\"M17.41 7.96l-1.37-1.37c-.4-.4-.92-.59-1.43-.59-.52 0-1.04.2-1.43.59L10.3 9.45l-7.72 7.72c-.78.78-.78 2.05 0 2.83L4 21.41c.39.39.9.59 1.41.59.51 0 1.02-.2 1.41-.59l7.78-7.78 2.81-2.81c.8-.78.8-2.07 0-2.86zM5.41 20L4 18.59l7.72-7.72 1.47 1.35L5.41 20z\"/>\n",
              "  </svg>\n",
              "      </button>\n",
              "      \n",
              "  <style>\n",
              "    .colab-df-container {\n",
              "      display:flex;\n",
              "      flex-wrap:wrap;\n",
              "      gap: 12px;\n",
              "    }\n",
              "\n",
              "    .colab-df-convert {\n",
              "      background-color: #E8F0FE;\n",
              "      border: none;\n",
              "      border-radius: 50%;\n",
              "      cursor: pointer;\n",
              "      display: none;\n",
              "      fill: #1967D2;\n",
              "      height: 32px;\n",
              "      padding: 0 0 0 0;\n",
              "      width: 32px;\n",
              "    }\n",
              "\n",
              "    .colab-df-convert:hover {\n",
              "      background-color: #E2EBFA;\n",
              "      box-shadow: 0px 1px 2px rgba(60, 64, 67, 0.3), 0px 1px 3px 1px rgba(60, 64, 67, 0.15);\n",
              "      fill: #174EA6;\n",
              "    }\n",
              "\n",
              "    [theme=dark] .colab-df-convert {\n",
              "      background-color: #3B4455;\n",
              "      fill: #D2E3FC;\n",
              "    }\n",
              "\n",
              "    [theme=dark] .colab-df-convert:hover {\n",
              "      background-color: #434B5C;\n",
              "      box-shadow: 0px 1px 3px 1px rgba(0, 0, 0, 0.15);\n",
              "      filter: drop-shadow(0px 1px 2px rgba(0, 0, 0, 0.3));\n",
              "      fill: #FFFFFF;\n",
              "    }\n",
              "  </style>\n",
              "\n",
              "      <script>\n",
              "        const buttonEl =\n",
              "          document.querySelector('#df-1bb69a9d-0756-4cd1-a428-488cad0430c6 button.colab-df-convert');\n",
              "        buttonEl.style.display =\n",
              "          google.colab.kernel.accessAllowed ? 'block' : 'none';\n",
              "\n",
              "        async function convertToInteractive(key) {\n",
              "          const element = document.querySelector('#df-1bb69a9d-0756-4cd1-a428-488cad0430c6');\n",
              "          const dataTable =\n",
              "            await google.colab.kernel.invokeFunction('convertToInteractive',\n",
              "                                                     [key], {});\n",
              "          if (!dataTable) return;\n",
              "\n",
              "          const docLinkHtml = 'Like what you see? Visit the ' +\n",
              "            '<a target=\"_blank\" href=https://colab.research.google.com/notebooks/data_table.ipynb>data table notebook</a>'\n",
              "            + ' to learn more about interactive tables.';\n",
              "          element.innerHTML = '';\n",
              "          dataTable['output_type'] = 'display_data';\n",
              "          await google.colab.output.renderOutput(dataTable, element);\n",
              "          const docLink = document.createElement('div');\n",
              "          docLink.innerHTML = docLinkHtml;\n",
              "          element.appendChild(docLink);\n",
              "        }\n",
              "      </script>\n",
              "    </div>\n",
              "  </div>\n",
              "  "
            ]
          },
          "metadata": {},
          "execution_count": 100
        }
      ]
    },
    {
      "cell_type": "code",
      "source": [
        "from sklearn.metrics import confusion_matrix"
      ],
      "metadata": {
        "id": "QDEBL4NYhbq3"
      },
      "id": "QDEBL4NYhbq3",
      "execution_count": 97,
      "outputs": []
    },
    {
      "cell_type": "code",
      "source": [
        "confusion_matrix(test_result['true'], test_result['predicted'])"
      ],
      "metadata": {
        "colab": {
          "base_uri": "https://localhost:8080/"
        },
        "id": "l4anFx9BiKNn",
        "outputId": "e0f65bb9-d208-45c3-c459-a13e364b4fec"
      },
      "id": "l4anFx9BiKNn",
      "execution_count": 99,
      "outputs": [
        {
          "output_type": "execute_result",
          "data": {
            "text/plain": [
              "array([[879,   8,  20,  11,   9,   4,   4,  10,  38,  17],\n",
              "       [ 13, 917,   3,   3,   1,   2,   3,   2,  14,  42],\n",
              "       [ 49,   1, 735,  44,  53,  41,  48,  16,   9,   4],\n",
              "       [ 24,   5,  33, 713,  45, 103,  41,  21,   8,   7],\n",
              "       [  9,   1,  45,  28, 829,  21,  27,  32,   5,   3],\n",
              "       [  5,   3,  23, 126,  30, 768,  10,  31,   0,   4],\n",
              "       [  4,   2,  24,  38,  27,  13, 886,   2,   2,   2],\n",
              "       [ 17,   0,  13,  30,  31,  35,   5, 863,   1,   5],\n",
              "       [ 39,  14,   6,   4,   1,   1,   6,   4, 911,  14],\n",
              "       [ 16,  39,   2,   4,   0,   3,   2,   4,  12, 918]])"
            ]
          },
          "metadata": {},
          "execution_count": 99
        }
      ]
    },
    {
      "cell_type": "code",
      "source": [],
      "metadata": {
        "id": "4iQlu5f2iSp_"
      },
      "id": "4iQlu5f2iSp_",
      "execution_count": null,
      "outputs": []
    }
  ],
  "metadata": {
    "accelerator": "GPU",
    "colab": {
      "provenance": [],
      "include_colab_link": true
    },
    "gpuClass": "standard",
    "kernelspec": {
      "display_name": "Python 3 (ipykernel)",
      "language": "python",
      "name": "python3"
    },
    "language_info": {
      "codemirror_mode": {
        "name": "ipython",
        "version": 3
      },
      "file_extension": ".py",
      "mimetype": "text/x-python",
      "name": "python",
      "nbconvert_exporter": "python",
      "pygments_lexer": "ipython3",
      "version": "3.8.0"
    }
  },
  "nbformat": 4,
  "nbformat_minor": 5
}